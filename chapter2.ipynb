{
  "nbformat": 4,
  "nbformat_minor": 0,
  "metadata": {
    "colab": {
      "name": "chapter2.ipynb",
      "provenance": [],
      "collapsed_sections": [],
      "authorship_tag": "ABX9TyO4VUbgJ3YBC5ePzlb/VuCf",
      "include_colab_link": true
    },
    "kernelspec": {
      "name": "python3",
      "display_name": "Python 3"
    },
    "language_info": {
      "name": "python"
    }
  },
  "cells": [
    {
      "cell_type": "markdown",
      "metadata": {
        "id": "view-in-github",
        "colab_type": "text"
      },
      "source": [
        "<a href=\"https://colab.research.google.com/github/instone1031/114514/blob/main/chapter2.ipynb\" target=\"_parent\"><img src=\"https://colab.research.google.com/assets/colab-badge.svg\" alt=\"Open In Colab\"/></a>"
      ]
    },
    {
      "cell_type": "markdown",
      "metadata": {
        "id": "APCWNbDrcJcj"
      },
      "source": [
        "# 연습문제"
      ]
    },
    {
      "cell_type": "markdown",
      "metadata": {
        "id": "7YaLu9-fcJUL"
      },
      "source": [
        "# 1번"
      ]
    },
    {
      "cell_type": "code",
      "metadata": {
        "id": "m4o0Iwx0cO24"
      },
      "source": [
        "name = input(\"이름을 입력하시오: \")\n",
        "age = int(input(\"나이를 입력하시오: \"))\n",
        "year = 2021 - age + 100\n",
        "\n",
        "print(name + \"씨는\" + str(year) + \"년에 100살이시네요!\")"
      ],
      "execution_count": null,
      "outputs": []
    },
    {
      "cell_type": "markdown",
      "metadata": {
        "id": "7vXW6_5ZcP4z"
      },
      "source": [
        "\n",
        "# 2번"
      ]
    },
    {
      "cell_type": "code",
      "metadata": {
        "id": "42Rj0fXrcQGQ"
      },
      "source": [
        "n1 = int(input(\"첫 번째 숫자를 입력하시오:\"))\n",
        "n2 = int(input(\"두 번째 숫자를 입력하시오:\"))\n",
        "n3 = int(input(\"세 번째 숫자를 입력하시오:\"))\n",
        "\n",
        "average = (n1 + n2 + n3) / 3\n",
        "\n",
        "print(n1, n2, n3, \"의 평균은\", average, \"입니다.\")"
      ],
      "execution_count": null,
      "outputs": []
    },
    {
      "cell_type": "markdown",
      "metadata": {
        "id": "7SfsGh_udIMr"
      },
      "source": [
        "# 3번"
      ]
    },
    {
      "cell_type": "code",
      "metadata": {
        "id": "SOi5IUFucQMH"
      },
      "source": [
        "radius = int(input(\"반지름을 입력하시오: \"))\n",
        "area = 3.141592 * radius**2\n",
        "\n",
        "print(\"반지름이\", radius, \"인 원의 넓이 =\", area\"입니다.\")"
      ],
      "execution_count": null,
      "outputs": []
    },
    {
      "cell_type": "markdown",
      "metadata": {
        "id": "6ZZmellvdigG"
      },
      "source": [
        "# 4번"
      ]
    },
    {
      "cell_type": "code",
      "metadata": {
        "id": "CcMvOx-TcQSA"
      },
      "source": [
        "import turtle\n",
        "t = turtle.Turtle()\n",
        "t.shape(\"turtle\")\n",
        "\n",
        "radius = 50\n",
        "t.up()\n",
        "t.goto(0, 0)\n",
        "t.down()\n",
        "t.circle(radius)\n",
        "\n",
        "radius = radius + 20\n",
        "t.up()\n",
        "t.goto(100, 0)\n",
        "t.down()\n",
        "t.circle(radius)\n",
        "\n",
        "radius = radius + 20\n",
        "t.up()\n",
        "t.goto(200, 0)\n",
        "t.down()\n",
        "t.circle(radius)\n",
        "t._screen.exitonclick()"
      ],
      "execution_count": null,
      "outputs": []
    },
    {
      "cell_type": "markdown",
      "metadata": {
        "id": "y98sHE1GeH7e"
      },
      "source": [
        "# 5번"
      ]
    },
    {
      "cell_type": "code",
      "metadata": {
        "id": "86uk0llgcQpl"
      },
      "source": [
        "import turtle\n",
        "t = turtle.Turtle()\n",
        "t.shape(\"turtle\")\n",
        "\n",
        "side = 100\n",
        "t.forward(side)\n",
        "t.left(120)\n",
        "t.forward(side)\n",
        "t.left(120)\n",
        "t.forward(side)\n",
        "t.left(120)\n",
        "t._screen.exitonclick()"
      ],
      "execution_count": null,
      "outputs": []
    },
    {
      "cell_type": "markdown",
      "metadata": {
        "id": "2v9em3lUeYFR"
      },
      "source": [
        "# 6번"
      ]
    },
    {
      "cell_type": "code",
      "metadata": {
        "id": "IW0FSm_5fSGe"
      },
      "source": [
        "import turtle\n",
        "t = turtle.Turtle()\n",
        "t.shape(\"turtle\")\n",
        "\n",
        "side = 200\n",
        "t.forward(side)\n",
        "t.left(120)\n",
        "t.forward(side)\n",
        "t.left(120)\n",
        "t.forward(side)\n",
        "t.left(120)\n",
        "t._screen.exitonclick()"
      ],
      "execution_count": null,
      "outputs": []
    },
    {
      "cell_type": "markdown",
      "metadata": {
        "id": "qLoSKJk5flJV"
      },
      "source": [
        "# 7번"
      ]
    },
    {
      "cell_type": "code",
      "metadata": {
        "id": "GJgAchbmfm96"
      },
      "source": [
        "import turtle\n",
        "t = turtle.Turtle()\n",
        "t.shape(\"turtle\")\n",
        "side = 50\n",
        "angle = 90\n",
        "\n",
        "t.forward(side)\n",
        "t.right(angle)\n",
        "t.forward(side)\n",
        "t.right(angle)\n",
        "t.forward(side)\n",
        "t.right(angle)\n",
        "t.forward(side)\n",
        "\n",
        "t.forward(side)\n",
        "t.right(angle)\n",
        "t.forward(side)\n",
        "t.right(angle)\n",
        "t.forward(side)\n",
        "t.right(angle)\n",
        "t.forward(100)\n",
        "t.right(180)\n",
        "\n",
        "t.forward(side)\n",
        "t.right(angle)\n",
        "t.forward(side)\n",
        "t.right(angle)\n",
        "t.forward(side)\n",
        "t.right(angle)\n",
        "t.forward(side)\n",
        "\n",
        "t.forward(side)\n",
        "t.right(angle)\n",
        "t.forward(side)\n",
        "t.right(angle)\n",
        "t.forward(side)\n",
        "t.write(\"닫으려면 화면 클릭\")\n",
        "t._screen.exitonclick()"
      ],
      "execution_count": null,
      "outputs": []
    },
    {
      "cell_type": "markdown",
      "metadata": {
        "id": "8tno3HnxcJIW"
      },
      "source": [
        "# 도전문제"
      ]
    },
    {
      "cell_type": "markdown",
      "metadata": {
        "id": "mFQd8C7o6hYk"
      },
      "source": [
        "# 1-1번"
      ]
    },
    {
      "cell_type": "code",
      "metadata": {
        "colab": {
          "base_uri": "https://localhost:8080/"
        },
        "id": "9uyi4I_n6hAw",
        "outputId": "f024de5a-3bf3-4a43-fc4b-e2423119f3f5"
      },
      "source": [
        "x = 7\n",
        "y = 6\n",
        "print(x + y)"
      ],
      "execution_count": null,
      "outputs": [
        {
          "output_type": "stream",
          "name": "stdout",
          "text": [
            "13\n"
          ]
        }
      ]
    },
    {
      "cell_type": "markdown",
      "metadata": {
        "id": "EdExhy6R6qKl"
      },
      "source": [
        "# 1-2번"
      ]
    },
    {
      "cell_type": "code",
      "metadata": {
        "colab": {
          "base_uri": "https://localhost:8080/"
        },
        "id": "r9kJWgSm6cpc",
        "outputId": "13e6f631-9fc7-4e85-f9a5-da9ebe787f38"
      },
      "source": [
        "x = '7'\n",
        "y = '6'\n",
        "print(x + y)"
      ],
      "execution_count": null,
      "outputs": [
        {
          "output_type": "stream",
          "name": "stdout",
          "text": [
            "76\n"
          ]
        }
      ]
    },
    {
      "cell_type": "markdown",
      "metadata": {
        "id": "wzj2lK2V64Fq"
      },
      "source": [
        "# 2번"
      ]
    },
    {
      "cell_type": "code",
      "metadata": {
        "id": "d3bkzrFe63UZ"
      },
      "source": [
        "import turtle\n",
        "t = turtle.Turtle()\n",
        "t.shape(\"turtle\")\n",
        "radius = 50\n",
        "x = 30\n",
        "t.circle(radius)\n",
        "t.fd(x)\n",
        "t.circle(radius)\n",
        "x = 50\n",
        "t.fd(x)\n",
        "t.circle(radius)"
      ],
      "execution_count": null,
      "outputs": []
    },
    {
      "cell_type": "markdown",
      "metadata": {
        "id": "lSlaHTvl7cOi"
      },
      "source": [
        "# 3번"
      ]
    },
    {
      "cell_type": "code",
      "metadata": {
        "colab": {
          "base_uri": "https://localhost:8080/"
        },
        "id": "gkabFt7T7d_M",
        "outputId": "41fae3a3-e52b-4096-dc44-62f38a12b5cc"
      },
      "source": [
        "x = int(input(\"첫 번째 정수를 입력하시오: \"))\n",
        "y = int(input(\"두 번째 정수를 입력하시오: \"))\n",
        "\n",
        "print(x, \" + \", y, \" = \", x + y)\n",
        "print(x, \" - \", y, \" = \", x + y)\n",
        "print(x, \" * \", y, \" = \", x + y)\n",
        "print(x, \" / \", y, \" = \", x + y)"
      ],
      "execution_count": null,
      "outputs": [
        {
          "output_type": "stream",
          "name": "stdout",
          "text": [
            "첫 번째 정수를 입력하시오: 3\n",
            "두 번째 정수를 입력하시오: 4\n",
            "3  +  4  =  7\n",
            "3  -  4  =  7\n",
            "3  *  4  =  7\n",
            "3  /  4  =  7\n"
          ]
        }
      ]
    }
  ]
}