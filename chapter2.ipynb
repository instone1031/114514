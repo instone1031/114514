{
  "nbformat": 4,
  "nbformat_minor": 0,
  "metadata": {
    "colab": {
      "name": "chapter2.ipynb",
      "provenance": [],
      "collapsed_sections": [],
      "authorship_tag": "ABX9TyMpYxXrw7zltSXVdHF3GTPW",
      "include_colab_link": true
    },
    "kernelspec": {
      "name": "python3",
      "display_name": "Python 3"
    },
    "language_info": {
      "name": "python"
    }
  },
  "cells": [
    {
      "cell_type": "markdown",
      "metadata": {
        "id": "view-in-github",
        "colab_type": "text"
      },
      "source": [
        "<a href=\"https://colab.research.google.com/github/instone1031/114514/blob/main/chapter2.ipynb\" target=\"_parent\"><img src=\"https://colab.research.google.com/assets/colab-badge.svg\" alt=\"Open In Colab\"/></a>"
      ]
    },
    {
      "cell_type": "markdown",
      "metadata": {
        "id": "APCWNbDrcJcj"
      },
      "source": [
        "# 연습문제"
      ]
    },
    {
      "cell_type": "markdown",
      "metadata": {
        "id": "7YaLu9-fcJUL"
      },
      "source": [
        "# 1번"
      ]
    },
    {
      "cell_type": "code",
      "metadata": {
        "id": "m4o0Iwx0cO24"
      },
      "source": [
        "name = input(\"이름을 입력하시오: \")                             # 문자열을 입력받는다\n",
        "age = int(input(\"나이를 입력하시오: \"))                         # 정수형을 입력받는다\n",
        "year = 2021 - age + 100                                         # 구하고자 하는 정수형을 계산한다\n",
        "\n",
        "print(name + \"씨는\" + str(year) + \"년에 100살이시네요!\")        # 변수와 문자열을 조합하여 문장을 만든다"
      ],
      "execution_count": null,
      "outputs": []
    },
    {
      "cell_type": "markdown",
      "metadata": {
        "id": "7vXW6_5ZcP4z"
      },
      "source": [
        "\n",
        "# 2번"
      ]
    },
    {
      "cell_type": "code",
      "metadata": {
        "id": "42Rj0fXrcQGQ",
        "colab": {
          "base_uri": "https://localhost:8080/"
        },
        "outputId": "9e05efaa-8861-43e9-f74b-a1e37a9d8cd1"
      },
      "source": [
        "n1 = int(input(\"첫 번째 숫자를 입력하시오:\"))                   # 정수형을 입력받는다\n",
        "n2 = int(input(\"두 번째 숫자를 입력하시오:\"))\n",
        "n3 = int(input(\"세 번째 숫자를 입력하시오:\"))\n",
        "\n",
        "average = (n1 + n2 + n3) / 3                                    # 입력받은 변수의 평균을 낸다\n",
        "\n",
        "print(n1, n2, n3, \"의 평균은\", average, \"입니다.\")              # 변수와 문자열을 조합하여 문장을 만든다"
      ],
      "execution_count": null,
      "outputs": [
        {
          "output_type": "stream",
          "name": "stdout",
          "text": [
            "첫 번째 숫자를 입력하시오:1\n",
            "두 번째 숫자를 입력하시오:2\n",
            "세 번째 숫자를 입력하시오:3\n",
            "1 2 3 의 평균은 2.0 입니다.\n"
          ]
        }
      ]
    },
    {
      "cell_type": "markdown",
      "metadata": {
        "id": "7SfsGh_udIMr"
      },
      "source": [
        "# 3번"
      ]
    },
    {
      "cell_type": "code",
      "metadata": {
        "id": "SOi5IUFucQMH"
      },
      "source": [
        "radius = int(input(\"반지름을 입력하시오: \"))                    # 정수형 변수를 입력받는다\n",
        "area = 3.141592 * radius**2                                     # 원주율과 변수를 이용해 넓이를 계산한다\n",
        "\n",
        "print(\"반지름이\", radius, \"인 원의 넓이 =\", area\"입니다.\")      # 변수와 문자열을 조합하여 문장을 만든다"
      ],
      "execution_count": null,
      "outputs": []
    },
    {
      "cell_type": "markdown",
      "metadata": {
        "id": "6ZZmellvdigG"
      },
      "source": [
        "# 4번"
      ]
    },
    {
      "cell_type": "code",
      "metadata": {
        "id": "CcMvOx-TcQSA"
      },
      "source": [
        "import turtle                                                   # turtle 모듈을 불러온다\n",
        "t = turtle.Turtle()                                             # 모듈을 t로 선언한다\n",
        "t.shape(\"turtle\")                                               # 아이콘의 모양을 거북이 모양으로 변경한다\n",
        "\n",
        "radius = 50                                                     # 반지름을 50으로 한다\n",
        "t.up()                                                          # 아이콘을 올린다\n",
        "t.goto(0, 0)                                                    # (0, 0)좌표로 이동한다\n",
        "t.down()                                                        # 아이콘을 내린다\n",
        "t.circle(radius)                                                # 반지름 만큼의 원을 그린다\n",
        "\n",
        "radius = radius + 20                                            # 이전 반지름에 20을 더한다\n",
        "t.up()\n",
        "t.goto(100, 0)                                                  # (100, 0)좌표로 이동한다\n",
        "t.down()\n",
        "t.circle(radius)\n",
        "\n",
        "radius = radius + 20                                            # 이전 반지름에 20을 더한다\n",
        "t.up()\n",
        "t.goto(200, 0)                                                  # (200, 0)좌표로 이동한다\n",
        "t.down()\n",
        "t.circle(radius)                                                \n",
        "t._screen.exitonclick()                                         # 눌러서 종료할수 있도록 설정한다"
      ],
      "execution_count": null,
      "outputs": []
    },
    {
      "cell_type": "markdown",
      "metadata": {
        "id": "y98sHE1GeH7e"
      },
      "source": [
        "# 5번"
      ]
    },
    {
      "cell_type": "code",
      "metadata": {
        "id": "86uk0llgcQpl"
      },
      "source": [
        "import turtle                                                   # turtle 모듈을 불러온다\n",
        "t = turtle.Turtle()                                             # 모듈을 t로 선언한다\n",
        "t.shape(\"turtle\")                                               # 아이콘을 거북이 모양으로 변경한다\n",
        "\n",
        "side = 100                                                      # 변의 길이를 100픽셀로 한다\n",
        "t.forward(side)                                                 # side 변수의 값만큼 이동한다\n",
        "t.left(120)                                                     # 왼쪽으로 120도 회전한다\n",
        "t.forward(side)\n",
        "t.left(120)\n",
        "t.forward(side)\n",
        "t.left(120)\n",
        "t._screen.exitonclick()                                         # 눌러서 종료할수 있도록 설정한다"
      ],
      "execution_count": null,
      "outputs": []
    },
    {
      "cell_type": "markdown",
      "metadata": {
        "id": "2v9em3lUeYFR"
      },
      "source": [
        "# 6번"
      ]
    },
    {
      "cell_type": "code",
      "metadata": {
        "id": "IW0FSm_5fSGe"
      },
      "source": [
        "import turtle                                                   # turtle 모듈을 불러온다\n",
        "t = turtle.Turtle()                                             # 모듈을 t로 선언한다\n",
        "t.shape(\"turtle\")                                               # 아이콘을 거북이 모양으로 변경한다\n",
        "\n",
        "side = 200                                                      # 변의 길이를 200픽셀로 한다\n",
        "t.forward(side)                                                 # side 변수의 값만큼 이동한다\n",
        "t.left(120)                                                     # 왼쪽으로 120도 회전한다\n",
        "t.forward(side)\n",
        "t.left(120)\n",
        "t.forward(side)\n",
        "t.left(120)\n",
        "t._screen.exitonclick()                                         # 눌러서 종료할수 있도록 설정한다"
      ],
      "execution_count": null,
      "outputs": []
    },
    {
      "cell_type": "markdown",
      "metadata": {
        "id": "qLoSKJk5flJV"
      },
      "source": [
        "# 7번"
      ]
    },
    {
      "cell_type": "code",
      "metadata": {
        "id": "GJgAchbmfm96"
      },
      "source": [
        "import turtle                                                    # turtle 모듈을 불러온다\n",
        "t = turtle.Turtle()                                              # 모듈을 t로 선언한다\n",
        "t.shape(\"turtle\")                                                # 아이콘을 거북이 모양으로 변경한다\n",
        "side = 50                                                        # 변의 길이를 50픽셀로 한다\n",
        "angle = 90                                                       # 꼭지점의 각도를 90도로 한다\n",
        "\n",
        "t.forward(side)                                                  # side 변수의 값만큼 이동한다\n",
        "t.right(angle)                                                   # 오른쪽으로 angle 변수의 값만큼 회전한다\n",
        "t.forward(side)\n",
        "t.right(angle)\n",
        "t.forward(side)\n",
        "t.right(angle)\n",
        "t.forward(side)\n",
        "\n",
        "t.forward(side)\n",
        "t.right(angle)\n",
        "t.forward(side)\n",
        "t.right(angle)\n",
        "t.forward(side)\n",
        "t.right(angle)\n",
        "t.forward(100)                                                   # 앞으로 100픽셀 이동한다\n",
        "t.right(180)                                                     # 오른쪽으로 180도 회전한다\n",
        "\n",
        "t.forward(side)\n",
        "t.right(angle)\n",
        "t.forward(side)\n",
        "t.right(angle)\n",
        "t.forward(side)\n",
        "t.right(angle)\n",
        "t.forward(side)\n",
        "\n",
        "t.forward(side)\n",
        "t.right(angle)\n",
        "t.forward(side)\n",
        "t.right(angle)\n",
        "t.forward(side)\n",
        "t.write(\"닫으려면 화면 클릭\")                                     # 아이콘 주변에 문구를 띄운다\n",
        "t._screen.exitonclick()                                           # 눌러서 종료할수 있도록 설정한다"
      ],
      "execution_count": null,
      "outputs": []
    },
    {
      "cell_type": "markdown",
      "metadata": {
        "id": "8tno3HnxcJIW"
      },
      "source": [
        "# 도전문제"
      ]
    },
    {
      "cell_type": "markdown",
      "metadata": {
        "id": "mFQd8C7o6hYk"
      },
      "source": [
        "# 1-1번"
      ]
    },
    {
      "cell_type": "code",
      "metadata": {
        "colab": {
          "base_uri": "https://localhost:8080/"
        },
        "id": "9uyi4I_n6hAw",
        "outputId": "f024de5a-3bf3-4a43-fc4b-e2423119f3f5"
      },
      "source": [
        "x = 7                                                              # x 변수값을 정수형 7로한다\n",
        "y = 6                                                              # y 변수값을 정수형 6으로 한다\n",
        "print(x + y)                                                       # x와y를 더한다"
      ],
      "execution_count": null,
      "outputs": [
        {
          "output_type": "stream",
          "name": "stdout",
          "text": [
            "13\n"
          ]
        }
      ]
    },
    {
      "cell_type": "markdown",
      "metadata": {
        "id": "EdExhy6R6qKl"
      },
      "source": [
        "# 1-2번"
      ]
    },
    {
      "cell_type": "code",
      "metadata": {
        "colab": {
          "base_uri": "https://localhost:8080/"
        },
        "id": "r9kJWgSm6cpc",
        "outputId": "13e6f631-9fc7-4e85-f9a5-da9ebe787f38"
      },
      "source": [
        "x = '7'                                                             # x값을 문자형 7로 한다\n",
        "y = '6'                                                             # y값을 문자형 6으로 한다\n",
        "print(x + y)                                                        # x와y를 더한다"
      ],
      "execution_count": null,
      "outputs": [
        {
          "output_type": "stream",
          "name": "stdout",
          "text": [
            "76\n"
          ]
        }
      ]
    },
    {
      "cell_type": "markdown",
      "metadata": {
        "id": "wzj2lK2V64Fq"
      },
      "source": [
        "# 2번"
      ]
    },
    {
      "cell_type": "code",
      "metadata": {
        "id": "d3bkzrFe63UZ"
      },
      "source": [
        "import turtle                                                       # turtle 모듈을 불러온다\n",
        "t = turtle.Turtle()                                                 # 모듈을 t로 선언한다\n",
        "t.shape(\"turtle\")                                                   # 아이콘을 거북이 모양으로 변경한다\n",
        "radius = 50                                                         # 반지름을 50으로 한다\n",
        "x = 30                                                              # x를 30으로 한다\n",
        "t.circle(radius)                                                    # 반지름 만큼의 원을 그린다\n",
        "t.fd(x)                                                             # x값만큼 앞으로 이동한다\n",
        "t.circle(radius)\n",
        "x = 50                                                              # x값을 50으로 변경한다\n",
        "t.fd(x)\n",
        "t.circle(radius)"
      ],
      "execution_count": null,
      "outputs": []
    },
    {
      "cell_type": "markdown",
      "metadata": {
        "id": "lSlaHTvl7cOi"
      },
      "source": [
        "# 3번"
      ]
    },
    {
      "cell_type": "code",
      "metadata": {
        "colab": {
          "base_uri": "https://localhost:8080/"
        },
        "id": "gkabFt7T7d_M",
        "outputId": "7470d3f0-c84b-444d-9f5f-8f9c2e4020e7"
      },
      "source": [
        "x = int(input(\"첫 번째 정수를 입력하시오: \"))                       # x 값을 문자열로 입력받는다\n",
        "y = int(input(\"두 번째 정수를 입력하시오: \"))                       # y 값을 문자열로 입력받는다\n",
        "\n",
        "print(x, \" + \", y, \" = \", x + y)                                    # 문자열과 변수를 조합한다\n",
        "print(x, \" - \", y, \" = \", x - y)                      \n",
        "print(x, \" * \", y, \" = \", x * y)\n",
        "print(x, \" / \", y, \" = \", x / y)"
      ],
      "execution_count": null,
      "outputs": [
        {
          "output_type": "stream",
          "name": "stdout",
          "text": [
            "첫 번째 정수를 입력하시오: 3\n",
            "두 번째 정수를 입력하시오: 4\n",
            "3  +  4  =  7\n",
            "3  -  4  =  -1\n",
            "3  *  4  =  12\n",
            "3  /  4  =  0.75\n"
          ]
        }
      ]
    }
  ]
}