{
  "nbformat": 4,
  "nbformat_minor": 0,
  "metadata": {
    "colab": {
      "name": "chapter 9.ipynb",
      "provenance": [],
      "collapsed_sections": [],
      "authorship_tag": "ABX9TyNqUlueRvTFPBOaiMhP4SVK",
      "include_colab_link": true
    },
    "kernelspec": {
      "name": "python3",
      "display_name": "Python 3"
    },
    "language_info": {
      "name": "python"
    }
  },
  "cells": [
    {
      "cell_type": "markdown",
      "metadata": {
        "id": "view-in-github",
        "colab_type": "text"
      },
      "source": [
        "<a href=\"https://colab.research.google.com/github/instone1031/114514/blob/main/chapter_9.ipynb\" target=\"_parent\"><img src=\"https://colab.research.google.com/assets/colab-badge.svg\" alt=\"Open In Colab\"/></a>"
      ]
    },
    {
      "cell_type": "markdown",
      "source": [
        "# 연습문제"
      ],
      "metadata": {
        "id": "cDdTwlsyBvjc"
      }
    },
    {
      "cell_type": "markdown",
      "source": [
        "# 1번"
      ],
      "metadata": {
        "id": "PGKFtsl5BvaW"
      }
    },
    {
      "cell_type": "code",
      "execution_count": null,
      "metadata": {
        "id": "aZ7bLBB0A3jB"
      },
      "outputs": [],
      "source": [
        "alist = []                                                                       # alist를 만든다\n",
        "sum = 0                                                                          # sum 변수를 0으로 한다\n",
        "\n",
        "for i in range(5):                                                               # i 변수의 범위를 정한다\n",
        "  i = int(input(\"정수를 입력하시오: \"))                                          # 정수형 변수 i를 입력받는다\n",
        "  alist.append(i)                                                                # 변수를 리스트에 추가한다\n",
        "\n",
        "for i in alist:                                                                  # i 변수를 리스트에 추가했을때\n",
        "  sum += i                                                                       # sum의 조건을 추가한다\n",
        "avg = sum / len(alist)                                                           # avg 변수를 만든다\n",
        "print(\"평균\", avg)                                                               # 문자열과 변수값을 출력한다"
      ]
    },
    {
      "cell_type": "markdown",
      "source": [
        "# 2번"
      ],
      "metadata": {
        "id": "9esgqKckk8VE"
      }
    },
    {
      "cell_type": "code",
      "source": [
        "import random                                                                    # random 모듈을 불러온다\n",
        "counters = [0, 0, 0, 0, 0, 0]                                                    # counters 리스트를 만든다\n",
        "\n",
        "for i in range(1000):                                                            # i 변수의 범위를 정한다\n",
        "  value = random.randint(0, 5)                                                   # value 변수를 만든다\n",
        "  counters[value] = counters[value] + 1                                          # couters 변수의 수식을 만든다\n",
        "\n",
        "for i in range(6):                                          \n",
        "  print(\"주사위가\", i + 1, \"인 경우는\", counters[i], \"번\")                       # 문자열과 변수값을 출력한다"
      ],
      "metadata": {
        "id": "oy6xVWjtk9bF"
      },
      "execution_count": null,
      "outputs": []
    },
    {
      "cell_type": "markdown",
      "source": [
        "# 3번"
      ],
      "metadata": {
        "id": "DwAwxzaGl_9h"
      }
    },
    {
      "cell_type": "code",
      "source": [
        "contacts = { }                                                                   # contacts를 만든다\n",
        "\n",
        "while True:                                                                      # 무한루프를 만든다\n",
        "  name = input(\"(입력모드)이름을 입력하시오: \")                                  # 문자형 변수 name을 입력받는다\n",
        "  if not name:                                                                   # 이름이 없다면\n",
        "    break;                                                                       # 무한루프를 종료한다\n",
        "  tel = input(\"전화번호를 입력하시오: \")\n",
        "  contacts[name] = tel                                                           # 리스트와 tel 변수를 연결시킨다\n",
        "\n",
        "while True:\n",
        "  name = input(\"(검색모드)이름을 입력하시오: \")\n",
        "  if not name:\n",
        "    break;\n",
        "  if name in contacts:                                                           # name 변수가 리스트에 추가되었을때\n",
        "    print(name, \"의 전화번호는\", contacts[name], \"입니다.\")                      # 문자열과 변수값을 출력한다"
      ],
      "metadata": {
        "id": "6yJqtgxVmBDx"
      },
      "execution_count": null,
      "outputs": []
    },
    {
      "cell_type": "markdown",
      "source": [
        "# 4번"
      ],
      "metadata": {
        "id": "SCHGqaX5oDOO"
      }
    },
    {
      "cell_type": "code",
      "source": [
        "import turtle                                                                    # turtle 모듈을 불러온다\n",
        "import random                                                                    # random 모듈을 불러온다\n",
        "\n",
        "t = turtle.Turtle()                                                              # 모듈을 t로 선언한다\n",
        "t.shape(\"turtle\")                                                                # 아이콘의 모양을 거북이모양으로 변경한다\n",
        "\n",
        "def draw_squre(x, y, c):                                                         # 사각형을 만드는 함수를 만든다\n",
        "  t.up()                                                                         # 아이콘을 올린다\n",
        "  t.goto(x, y)                                                                   # (x, y)좌표로 이동한다\n",
        "  t.down()                                                                       # 아이콘을 내린다\n",
        "  t.color(\"black\", c)                                                            # 선의 색을 검정색으로 한다\n",
        "  t.begin_fill()                                                                 # 채우기를 시작한다\n",
        "  t.fd(100)                                                                      # 앞으로 100픽셀 이동한다\n",
        "  t.left(90)                                                                     # 왼쪽으로 90도 회전한다\n",
        "  t.forward(100)                                                              \n",
        "  t.left(90)\n",
        "  t.forward(100)\n",
        "  t.left(90)\n",
        "  t.end_fill()                                                                   # 채우기를 중단한다\n",
        "for c in [\"yellow\", \"red\", \"purple\", \"blue\"]:                                    # c 변수에 리스트를 부여한다\n",
        "  x = random.randint(-100, 100)                                                  # x 변수의 범위를 준다\n",
        "  y = random.randint(-100, 100)                                                  # y 변수의 범위를 준다\n",
        "  draw_square(x, y, c)                                                           # 변수값을 이용해 사각형을 그린다\n",
        "\n",
        "t._screen.exitonclick                                                            # 눌러서 종료할수있도록 설정한다"
      ],
      "metadata": {
        "id": "gURYks0FoD8K"
      },
      "execution_count": null,
      "outputs": []
    },
    {
      "cell_type": "markdown",
      "source": [
        "# 5번"
      ],
      "metadata": {
        "id": "bBxBJUiVwRYJ"
      }
    },
    {
      "cell_type": "code",
      "source": [
        "import turtle                                                                    # turtle 모듈을 불러온다\n",
        "import random                                                                    # random 모듈을 불러온다\n",
        "\n",
        "t = turtle.Turtle()                                                              # 모듈을 t로 선언한다\n",
        "s = turtle.Screen()                                                              # 배경을 s로 선언한다\n",
        "\n",
        "def draw_shape(t, c, length, sides, x, y):                                       # 도형을 만드는 함수를 만든다\n",
        "  t.up()                                                                         # 아이콘을 올린다\n",
        "  t.goto(x, y)                                                                   # (x, y)좌표로 이동한다\n",
        "  t.down()                                                                       # 아이콘을 내린다\n",
        "  t.fillcolor(c)                                                                 # 색을 채운다\n",
        "  angle = 360.0 / sides                                                          # 각도를 정한다\n",
        "  t.begin_fill()                                                                 # 채우기를 시작한다\n",
        "  for dist in range(sides):                                                      # dist 변수의 범위를 정하면\n",
        "    t.forward(length)                                                            # 앞으로 변수값만큼 이동한다\n",
        "    t.left(angle)                                                                # 왼쪽으로 변수값만큼 회전한다\n",
        "  t.end_fill()                                                                   # 채우기를 중단한다\n",
        "\n",
        "for i in range(10):                                                              # i 변수의 범위를 정한다\n",
        "  color = random.choice(['white', 'yellow', 'blue', 'skyblue',\n",
        "                         'orange', 'green'])                                     # 색리스트를 작성한다\n",
        "  side_length = random.randint(10, 300)                                          # side_length 변수의 범위를 정한다\n",
        "  sides = random.randint(3, 10)                                                  # sides 변수의 범위를 정한다\n",
        "  x = random.randint(-200,200)                                                   # x 변수의 범위를 정한다\n",
        "  y = random.randint(-200,200)                                                   # y 변수의 범위를 정한다\n",
        "  draw_shape(t, color, side_length, sides, x, y)                                 # 변수값을 이용해 도형을 그린다"
      ],
      "metadata": {
        "id": "xiRZVNFvwSTw"
      },
      "execution_count": null,
      "outputs": []
    },
    {
      "cell_type": "markdown",
      "source": [
        "# 6번"
      ],
      "metadata": {
        "id": "AOlFGar7z3qO"
      }
    },
    {
      "cell_type": "code",
      "source": [
        "import turtle                                                                    # turtle 모듈을 불러온다\n",
        "import random                                                                    # random 모듈을 불러온다\n",
        "\n",
        "t = turtle.Turtle()                                                              # 모듈을 t로 선언한다\n",
        "s = turtle.Screen()                                                              # 배경을 s로 선언한다\n",
        "s.bgcolor(\"black\")                                                               # 배경을 검은색으로 한다\n",
        "\n",
        "def draw_star(aturtle, color, side_length, x, y):                                # 별을 그리는 함수를 만든다\n",
        "  aturtle.color(color)                                                           # 색을 변경한다\n",
        "  aturtle.begin_fill()                                                           # 채우기를 시작한다\n",
        "  aturtle.penup()                                                                # 펜을 올린다\n",
        "  aturtle.goto(x, y)                                                             # (x, y)좌표로 이동한다\n",
        "  aturtle.pendown()                                                              # 펜을 내린다\n",
        "  for i in range(5):                                                             # i 변수의 범위를 정한다\n",
        "    aturtle.forward(side_length)                                                 # 앞으로 변수값만큼 이동한다\n",
        "    aturtle.right(144)                                                           # 오른쪽으로 144도만큼 회전한다\n",
        "    aturtle.forward(side_length)                                                 # 앞으로 변수값만큼 이동한다\n",
        "  aturtle.end_fill()                                                             # 채우기를 중단한다\n",
        "\n",
        "for i in range(20):\n",
        "  color = random.choice(['white', 'yellow', 'blue', 'skyblue',\n",
        "                         'orange', 'green'])                                     # 색리스트를 만든다\n",
        "  side_length = random.randint(10, 100)                                          # side_length 변수의 범위를 정한다\n",
        "  x = random.randint(-200,200)                                                   # x 변수의 범위를 정한다\n",
        "  y = random.randint(-200,200)                                                   # y 변수의 범위를 정한다\n",
        "  draw_star(t, color, side_length, x, y)                                         # 변수값을 이용해 도형을 그린다"
      ],
      "metadata": {
        "id": "A3CJDb10z4rk"
      },
      "execution_count": null,
      "outputs": []
    },
    {
      "cell_type": "markdown",
      "source": [
        "# 7번"
      ],
      "metadata": {
        "id": "Bd2LFT3l22C1"
      }
    },
    {
      "cell_type": "code",
      "source": [
        "domains = {\"kr\": \"대한민국\", \"us\": \"미국\", \"jp\": \"일본\", \"de\": \"독일\",\n",
        "           \"sk\": \"스로바키아\", \"hu\": \"헝가리\", \"no\": \"노르웨이\"}                 # domain 리스트를 작성한다\n",
        "\n",
        "for k, v in domains,item():                                                      # k,v의 범위를 정한다\n",
        "  print(k, \":\" , v)                                                              # 변수값과 문자열을 출력한다"
      ],
      "metadata": {
        "id": "PtngGYyK282J"
      },
      "execution_count": null,
      "outputs": []
    },
    {
      "cell_type": "markdown",
      "source": [
        "# 8번"
      ],
      "metadata": {
        "id": "Ck-pezEg4RVF"
      }
    },
    {
      "cell_type": "code",
      "source": [
        "problems = {'파이썬': '최근에 가장 떠오르는 프로그래밍 언어',\n",
        "            '변수': '데이터를 저장하는 메모리 공간',\n",
        "            '함수': '작업을 수행하는 문장들의 집합에 이름을 붙인것',\n",
        "            '리스트': '서로 관련이 없는 항목들의 모임'}                          # problems 리스트를 작성한다\n",
        "                                                                                \n",
        "def show_words(problems):                                                        # 단어를 보여주는 함수를 만든다\n",
        "  display_message = \"\"                                                           # display_message 변수를 설정한다\n",
        "  i=1                                                                            # i 변수를 1로 한다\n",
        "  for word in problems.key():                                                    # word 변수의 범위를 정한다\n",
        "  display_message += \"(\"+str(i)+\")\"                                              # display_message 변수의 수식을 만든다\n",
        "  display_message += word + \" \"\n",
        "  i += 1                                                                         # i 변수의 수식을 만든다\n",
        "  print(display_message)                                                         # 변수값을 출력한다\n",
        "\n",
        "for meaning in problems.values():                                                # meaning 변수의 범위를 정한다\n",
        "  print(\"다음은 어떤 단어에 대한 설명일까요? \")                                  # 문자열을 출력한다\n",
        "  print(\"\\\"\"+meaning+\"\\\"\")                                                       # 문자열과 변수값을 출력한다\n",
        "  correct = False                                                                # correct를 거짓으로 설정한다\n",
        "  while not correct:                                                             # correct가 아니라면\n",
        "    show_words(problems)                                                         # 단어를 보여준다\n",
        "    guessed_word = input(\"\")                                                     # 문자열 변수 guessed_word를 입력받는다\n",
        "    if problems[guessed_word] == meaning:                                        # problems 리스트가 meaning과 동일하다면\n",
        "      print(\"정답입니다. !\")\n",
        "      correct = True                                                             # correct를 참으로 한다\n",
        "    else:                                                                        # 조건을 만족하지 못한다면\n",
        "      print(\"정답이 아닙니다.\")                                              "
      ],
      "metadata": {
        "id": "h8Ayvgjo4SdJ"
      },
      "execution_count": null,
      "outputs": []
    }
  ]
}