{
  "nbformat": 4,
  "nbformat_minor": 0,
  "metadata": {
    "colab": {
      "name": "chapter 10.ipynb",
      "provenance": [],
      "collapsed_sections": [],
      "authorship_tag": "ABX9TyMDCnaDz9SWX0o+t+CihyJo",
      "include_colab_link": true
    },
    "kernelspec": {
      "name": "python3",
      "display_name": "Python 3"
    },
    "language_info": {
      "name": "python"
    }
  },
  "cells": [
    {
      "cell_type": "markdown",
      "metadata": {
        "id": "view-in-github",
        "colab_type": "text"
      },
      "source": [
        "<a href=\"https://colab.research.google.com/github/instone1031/114514/blob/main/chapter_10.ipynb\" target=\"_parent\"><img src=\"https://colab.research.google.com/assets/colab-badge.svg\" alt=\"Open In Colab\"/></a>"
      ]
    },
    {
      "cell_type": "markdown",
      "source": [
        "# 연습문제"
      ],
      "metadata": {
        "id": "_Foq3JQb8Kjt"
      }
    },
    {
      "cell_type": "markdown",
      "source": [
        "# 1번"
      ],
      "metadata": {
        "id": "FlroOXqB8OSV"
      }
    },
    {
      "cell_type": "code",
      "execution_count": null,
      "metadata": {
        "id": "CKP1aRhZ78v3"
      },
      "outputs": [],
      "source": [
        "from tkinter import Tk, Label, Button                                            # gui를 만드는 모듈을 불러온다\n",
        "\n",
        "def greet():                                                                     # greet함수를 만든다\n",
        "  print(\"파이썬에 오신 것을 환영합니다.\")                                        # 문자열을 출력한다\n",
        "\n",
        "window = Tk()                                                                    # 화면을 설정한다\n",
        "label = Label(window, text=\"간단한 GUI 프로그램! \")                              # 레이블을 변수값을 이용해 설정한다\n",
        "label.pack()                                                                     # 레이블을 만든다\n",
        "\n",
        "greet_button = Button(window, text=\"환영합니다.\", command=greet)                 # 버튼1을 설정한다\n",
        "greet_button.pack()                                                              # 버튼1을 만든다\n",
        "\n",
        "close_button = Button(window, text=\"종료\", command=window.quit)                  # 버튼2를 설정한다\n",
        "close_button.pack()                                                              # 버튼2를 만든다\n",
        "\n",
        "window.mainloop()                                                                # 함수를 실행한다"
      ]
    },
    {
      "cell_type": "markdown",
      "source": [
        "# 2번"
      ],
      "metadata": {
        "id": "wtZFce_Q-81m"
      }
    },
    {
      "cell_type": "code",
      "source": [
        "from tkinter import Tk, Label, Button ,Entry, IntVar, END, W, E                  # gui를 만드는 모듈을 불러온다\n",
        "\n",
        "def update_add():                                                                # 더하기를 추가하는 함수를 만든다\n",
        "  update(\"add\")                                                                  # 더하기를 추가한다\n",
        "\n",
        "def update_subtract():                                                           # 빼기를 추가하는 함수를 만든다\n",
        "  update(\"subtract\")                                                             # 빼기를 추가한다\n",
        "\n",
        "def update_reset():                                                              # 초기화를 추가하는 함수를 만든다\n",
        "  update(\"reset\")                                                                # 초기화를 추가한다\n",
        "\n",
        "window = Tk()                                                                    # 화면을 Tk로 선언한다\n",
        "total = 0                                                                        # total을 0으로 한다\n",
        "sum = Label(window)                                                              # sum의 변수값을 설정한다\n",
        "sum.grid(row=0, colum=1, columnspan=2)                                           # sum의 분류를 설정한다\n",
        "\n",
        "label = Label(window, text=:\"현재 합계: \")                                       # 레이블의 변수값을 설정한다\n",
        "label.grid(row=0, column=0)                                                      # label의 분류를 설정한다\n",
        "\n",
        "entry = Entry(window)                                                            # entry의 변수값을 설정한다\n",
        "entry.grid(row=1, column=0, columnspan=3)                                        # entry의 분류를 설정한다\n",
        "\n",
        "add_button = Button(window, text=\"더하기(+)\", command=update_add)                # add_button의 변수값을 설정한다\n",
        "subtract_button = Button(window, text=\"빼기(-))\", command=update_subtract)       # subtract_button의 변수값을 설정한다\n",
        "reset_button = Button(window, text=\"초기화\", command=update_reset)               # reset_button의 변수값을 설정한다\n",
        "\n",
        "add_button.grid(row=2, column=0)                                                 # add_button의 분류를 설정한다\n",
        "subtract_button.grid(row=2, column=1)                                            # subtract_button의 분류를 실행한다\n",
        "reset_button.grid(row=2, column=1)                                               # reset_button의 분류를 설정한다\n",
        "\n",
        "def update(method):                                                              # 함수를 만든다\n",
        "  global total                                                                  \n",
        "  if method == \"add\":                                                            # method가 add와 같다면\n",
        "    total += int(entry.get())                                                    # total의 수식을 만든다\n",
        "  elif method == \"subtract\":                                                     # method가 subtract와 같다면\n",
        "    total -= int(entry.get())                                                   \n",
        "  else:                                                                          # 조건을 만족하지 못한다면\n",
        "    total = 0                                                                    # 합계가 0이다\n",
        "  sum['text'] =str(total)                                                        # 정수형 변수total을 sum리스트로 만든다\n",
        "  entry.delete(0, END)                                                           # 0으로 만들고 중단한다\n",
        "window.mainloop()                                                                # 함수를 실행한다"
      ],
      "metadata": {
        "id": "QRH8TXFW-99x"
      },
      "execution_count": null,
      "outputs": []
    },
    {
      "cell_type": "markdown",
      "source": [
        "# 3번"
      ],
      "metadata": {
        "id": "GakVuzzfFb-x"
      }
    },
    {
      "cell_type": "code",
      "source": [
        "import random                                                                    # random 모듈을 불러온다\n",
        "from tkinter  import *                                                           # gui를 만드는 모듈을 불러온다\n",
        "\n",
        "window = Tk()                                                                    # 화면을 Tk로 선언한다\n",
        "secret_number = random.randint(1, 100)                                           # secret_number의 범위를 정한다\n",
        "guess = None                                                                     # guess를 공백으로 설정한다\n",
        "num_guesses = 0                                                                  # num_guesses를 0으로 한다\n",
        "\n",
        "def guess_number():                                                              # 숫자맞추기를 하는 함수를 만든다\n",
        "  global num_guesses                                                            \n",
        "  guess = int(entry.get())                                                       # 정수형변수를 문자형으로 바꾼다\n",
        "  num_guesses += 1                                                               # num_guesses의 수식을 정한다\n",
        "  if guess == secret_number:                                                     # 변수값이 동일하다면\n",
        "    message = \"축하합니다.!\"                                                     # 문자열을 출력한다\n",
        "  elif guess < secret_number:                                                    # 변수값이 크다면\n",
        "    message = \"너무 낮아요!!\"                                               \n",
        "  else:                                                                          # 조건을 만족하지 못하면\n",
        "    message = \"너무 높아요!!\"\n",
        "  label['text'] = message                                                        # label을 설정한다\n",
        "\n",
        "def reset():                                                                     # 초기화하는 함수를 만든다\n",
        "  global num_guesses                        \n",
        "  entry.delete(0, END)                                                           # 0으로 만들고 중단한다\n",
        "  secret_number = random.randint(1, 100)                                     \n",
        "  guess = 0                                                                      # guess를 0으로 한다\n",
        "  message = \"1부터 100사이의 숫자를 추측하시오.\"           \n",
        "  label['text'] = message\n",
        "\n",
        "message = \"1부터 100사이의 숫자를 추측하시오\"\n",
        "label = Label(window, text=message)                                              # label의 변수값을 설정한다\n",
        "entry = Entry(window)                                                            # entry의 변수값을 설정한다\n",
        "\n",
        "guess_button = Button(window, text=\"숫자를 입력\", command=guess_number)          # 질문버튼을 만든다\n",
        "reset_button = Button(window, text=\"게임을 다시 실행\", command=reset)            # 초기화버튼을 만든다\n",
        "\n",
        "label.grid(row=0, column=0, columnspan=2, sticky=W+E)                            # label의 분류를 설정한다\n",
        "entry.grid(row=1, column=0, columnspan=2, sticky=W+E)                            # entry의 분류를 설정한다\n",
        "guess_button.grid(row=2, column=0)                                               # guess의 분류를 설정한다\n",
        "reset_button.grid(row=2, column=1)                                               # reset의 분류를 설정한다\n",
        "\n",
        "window.mainloop()                                                                # 함수를 실행한다"
      ],
      "metadata": {
        "id": "z3z5n1thFdQt"
      },
      "execution_count": null,
      "outputs": []
    },
    {
      "cell_type": "markdown",
      "source": [
        "# 4번"
      ],
      "metadata": {
        "id": "7YOxPEuCOwVW"
      }
    },
    {
      "cell_type": "code",
      "source": [
        "from tkinter import *                                                            # gui를 만드는 모듈을 불러온다\n",
        "\n",
        "def do_convert():                                                                # 변환기 함수를 만든다\n",
        "  inch_val = float(cvt_from.get())                                               # 인치의 변수값을 설정한다\n",
        "  centimeters_val = inch_val * 2.54                                              # 센티미터의 수식을 만든다\n",
        "  cvt_to.set('%s 센티미터' % centimeters_val)                                    # 센티미터를 세팅한다\n",
        "\n",
        "root = Tk()                                                                      # root를 Tk로 선언한다\n",
        "cvt_from = StringVar()                                                           # 변환할것을 설정한다\n",
        "cvt_to = StringVar()                                                             # 변환될것을 설정한다\n",
        "\n",
        "lbl = Label(root, text=\"인치를 센티미터로 변환하는 프로그램\")                    # 전체적인 틀을 만든다\n",
        "lbl.grid(row=0, column=0, columnspan=2)                                          # lbl의 분류를 설정한다\n",
        "from_lbl = Label(root, text='인치를 입력하시오:')                                # 인치 입력칸을 만든다\n",
        "from_lbl.grid(row=1, column=1)                                                   # from_lbl의 분류를 설정한다\n",
        "from_entry = Entry(root, textvariable=cvt_from)                                  # 인치를 변환한다\n",
        "from_entry.grid(row=1, column=1)                                                 # from_entry.grid의 분류를 설정한다\n",
        "\n",
        "to_lbl = Label(root, text='반환결과: ')                                          # 결과버튼을 만든다\n",
        "to_lbl.grid(row=2, column=0)                                                     # to_lbl의 분류를 설정한다\n",
        "result_lbl = Label(root,textvariable=cvt_to)                                     # 결과창을 만든다\n",
        "result_lbl.grid(row=3, column=1)                                                 # result_lbl의 분류를 설정한다\n",
        "\n",
        "convert_btn = Button(root, text='변환!', command=do_convert)                     # 변환하는 버튼을 만든다\n",
        "convert_btn.grid(row=3, column=1)                                                # convert_btn의 분류를 설정한다\n",
        "\n",
        "root.mainloop()                                                                  # 함수를 실행한다"
      ],
      "metadata": {
        "id": "G6asOqiMOyIi"
      },
      "execution_count": null,
      "outputs": []
    },
    {
      "cell_type": "markdown",
      "source": [
        "# 5번"
      ],
      "metadata": {
        "id": "OZjoDt9liu57"
      }
    },
    {
      "cell_type": "code",
      "source": [
        "from tkinter import *                                                            # gui를 만드는 모듈을 불러온다\n",
        "fields = '이름', '직업', '국적'                                                  # fields 변수를 설정한다\n",
        "\n",
        "def fetch(entries):                                                              # 함수를 만든다\n",
        "  for entry in entries:                                                          # entry 변수의 범위를 정한다\n",
        "    field = entry[0]                                                             # entry 변수의 리스트를 적용시킨다\n",
        "    text = entry[1].get()                                                        # text 변수의 리스트와 변수값을 적용시킨다\n",
        "    print('%s: \"%s\"' % (field, text))                                            # 변수값과 문자열을 출력한다\n",
        "\n",
        "def makeform(root, fields):                                                      # 모양을 만드는 함수를 만든다\n",
        "  entries = []                                                                   # entries 변수의 리스트를 만든다\n",
        "  for field in fields:                                                           # field의 범위를 정한다\n",
        "    row = Frame(root)                                                            # row의 변수값을 설정한다\n",
        "    lab = Label(row, width=15, text=field)                                       # lab의 변수값을 설정한다\n",
        "    ent = Entry(row)                                                             # ent의 변수값을 설정한다\n",
        "    row.pack(side=TOP, fill=x)                                                   # row.pack을 설정한다\n",
        "    lab.pack(side=LEFT)                                                          # lab.pack을 설정한다\n",
        "    ent.pack(side=RIGHT, expand=YES, fill=x)                                     # ent.pack을 설정한다\n",
        "    entries.append((field, ent))                                                 # entries를 설정한다\n",
        "  return entries                                                                 # entries값을 반환한다\n",
        "\n",
        "root = Tk()                                                                      # root를 Tk로 선언한다\n",
        "ents = makeform(root, fields)                                                   \n",
        "root.bind('<Return>', (lambda event, e=ents: fetch(e)))                          # 변수값들을 묶는다\n",
        "b1 = Button(root, text'보여주기', command=(lambda e=ents: fetch(e)))             # b1 버튼을 만든다\n",
        "b1.pack(side=LEFT, padx=5, pady=5)                                               # b1 버튼의 위치를 정한다\n",
        "b2 = Button(root, text'종료하기', command=root.quit)                             # b2 버튼을 만든다\n",
        "b2.pack(side=LEFT, padx=5, pady=5)                                               # b2 버튼의 위치를 정한다\n",
        "root.mainloop()                                                                  # 함수를 실행한다"
      ],
      "metadata": {
        "id": "s-SeuQQtivj7"
      },
      "execution_count": null,
      "outputs": []
    },
    {
      "cell_type": "markdown",
      "source": [
        "# 6번"
      ],
      "metadata": {
        "id": "XE6U9JUBkYsr"
      }
    },
    {
      "cell_type": "code",
      "source": [
        "from tkinter import *                                                            # gui를 만드는 모듈을 불러온다\n",
        "\n",
        "window = Tk()                                                                    # 창을 Tk로 선언한다\n",
        "label1 = Label(window, text='로그인 하세요!!!', font=(\"Helvetica\", 10))          # label1의 설정을 한다\n",
        "label1.pack()                                                                    # label1을 묶는다\n",
        "\n",
        "label2 = Label(window, text='아이디')                                            # label2의 설정을 한다\n",
        "label2.pack()                                                                    # label2를 묶는다\n",
        "\n",
        "entry1 = Entry(window)                                                           # entry1의 설정을 한다\n",
        "entry1.pack()                                                                    # entry1을 묶는다\n",
        "\n",
        "label2 = Label(window, text='패스워드')                                  \n",
        "label2.pack()\n",
        "entry2 = Entry(window)                                                           # entry2의 설정을 한다\n",
        "entry2.pack()                                                                    # entry2를 묶는다\n",
        "\n",
        "button1 = Button(window, text='로그인')                                          # 로그인버튼을 만든다\n",
        "button1.pack()                                                                   # button1을 묶는다\n",
        "window.mainloop()                                                                # 함수를 실행한다"
      ],
      "metadata": {
        "id": "qqYgmht1vfpY"
      },
      "execution_count": null,
      "outputs": []
    },
    {
      "cell_type": "markdown",
      "source": [
        "# 7번"
      ],
      "metadata": {
        "id": "m83h9IAVxZRS"
      }
    },
    {
      "cell_type": "code",
      "source": [
        "# 모듈\n",
        "from random import *\n",
        "from tkinter import *\n",
        "\n",
        "# 가위,바위,보 선택\n",
        "def user_choice_rock():\n",
        "  user_choice =\"rock\"\n",
        "  turn(user_choice)\n",
        "  user_image.configure(image=rock_image)\n",
        "\n",
        "def user_choice_paper():\n",
        "  user_choice =\"paper\"\n",
        "  turn(user_choice)\n",
        "  user_image.configure(image=paper_image)\n",
        "\n",
        "def user_choice_scissors():\n",
        "  user_choice =\"scissors\"\n",
        "  turn(user_choice)\n",
        "  user_image.configure(image=scissors_image)\n",
        "\n",
        "# 게임 화면\n",
        "def turn(user_choice):\n",
        "  oppo =['rock', 'paper', 'scissors']\n",
        "  oppo_choice=oppo[randint(0,2)]\n",
        "  if(oppo_choice=='rock'):\n",
        "    oppo_image.configure(image=rock_image)\n",
        "    if(user_choice=='paper'):\n",
        "      turn_result.configure(text='사용자 승', fg=\"green\")\n",
        "      compare.configure(text=\">>>>>\")\n",
        "    elif(user_choice=='scissors'):\n",
        "      turn_result.configure(text=\"컴퓨터 승\", fg=\"red\")\n",
        "      compare.configure(text=\"<<<<<\")\n",
        "    else:\n",
        "      turn_result.configure(text=\"무승부\", fg=\"gray\")\n",
        "      compare.configure(text=\"=====\")\n",
        "  elif(oppo_choice=='paper'):\n",
        "    oppo_image.configure(image=paper_image)\n",
        "    if(user_choice=='scissors'):\n",
        "      turn_result.configure(text='사용자 승', fg=\"green\")\n",
        "      compare.configure(text=\">>>>>\")\n",
        "    elif(user_choice=='rock'):\n",
        "      turn_result.configure(text=\"컴퓨터 승\", fg=\"red\")\n",
        "      compare.configure(text=\"<<<<<\")\n",
        "    else:\n",
        "      turn_result.configure(text=\"무승부\", fg=\"gray\")\n",
        "      compare.configure(text=\"=====\")\n",
        "  elif(oppo_choice=='scissors'):\n",
        "    oppo_image.configure(image=scissors_image)\n",
        "    if(user_choice=='rock'):\n",
        "      turn_result.configure(text='사용자 승', fg=\"green\")\n",
        "      compare.configure(text=\">>>>>\")\n",
        "    elif(user_choice=='paper'):\n",
        "      turn_result.configure(text=\"컴퓨터 승\", fg=\"red\")\n",
        "      compare.configure(text=\"<<<<<\")\n",
        "    else:\n",
        "      turn_result.configure(text=\"무승부\", fg=\"gray\")\n",
        "      compare.configure(text=\"=====\")\n",
        "\n",
        "# 메인 프로그램\n",
        "main_window = Tk()\n",
        "rock_button = Button(main_window, width=20, text=\"바위\", justify=CENTER, command=user_choice_rock, activebackground='black', activeforeground='white')\n",
        "\n",
        "paper_button = Button(main_window, width=20, text=\"보\", justify=CENTER, command=user_choice_paper, activebackground='black', activeforeground='white')\n",
        "\n",
        "scissors_button = Button(main_window, width=20, text=\"가위\", justify=CENTER, command=user_choice_scissors, activebackground='black', activeforeground='white')\n",
        "\n",
        "rock_image = PhotoImage(file=\"C:\\Users\\jjong\\Desktop\\잡다한 사진 임시거처\\rock.gif\")                                      # 끝난뒤 조정\n",
        "paper_image = PhotoImage(file=\"C:\\Users\\jjong\\Desktop\\잡다한 사진 임시거처\\paper.gif\")\n",
        "scissors_image = PhotoImage(file=\"C:\\Users\\jjong\\Desktop\\잡다한 사진 임시거처\\scissors.gif\")\n",
        "\n",
        "user_image = Label(text=\"사용자\", image=rock_image)\n",
        "user_image.image = rock_image\n",
        "\n",
        "comare = Label(main_window, justify=CENTER, font=(\"Helvetica\", 20))\n",
        "oppo_image = Label(text=\"컴퓨터\", image=paper_image)\n",
        "oppo_image.image = paper_image\n",
        "turn_result = Label(main_window, width=20, justify=CENTER, font=(\"Helvetica, 20\"))\n",
        "\n",
        "# 그리드 생성\n",
        "rock_button.grid(row=5, column=1)\n",
        "paper_button.grid(row=5, column=2)\n",
        "scissors_button.grid(row=5, column=3)\n",
        "user_image.grid(row=3, column=1)\n",
        "compare.grid(row=3, column=2)\n",
        "oppo_image.grid(row=3, column=3)\n",
        "turn_result.grid(row=4, column=2)\n",
        "\n",
        "# 메인 루프\n",
        "main_window.mainloop()"
      ],
      "metadata": {
        "colab": {
          "base_uri": "https://localhost:8080/",
          "height": 172
        },
        "id": "S8MkIK1-xaLb",
        "outputId": "a3a7c9b4-117d-406e-9727-221f911d989f"
      },
      "execution_count": null,
      "outputs": [
        {
          "output_type": "error",
          "ename": "SyntaxError",
          "evalue": "ignored",
          "traceback": [
            "\u001b[0;36m  File \u001b[0;32m\"<ipython-input-1-9caa6056f738>\"\u001b[0;36m, line \u001b[0;32m67\u001b[0m\n\u001b[0;31m    rock_image = PhotoImage(file=\"C:\\Users\\jjong\\Desktop\\잡다한 사진 임시거처\")                                      # 끝난뒤 조정\u001b[0m\n\u001b[0m                                ^\u001b[0m\n\u001b[0;31mSyntaxError\u001b[0m\u001b[0;31m:\u001b[0m (unicode error) 'unicodeescape' codec can't decode bytes in position 2-3: truncated \\UXXXXXXXX escape\n"
          ]
        }
      ]
    },
    {
      "cell_type": "markdown",
      "source": [
        ""
      ],
      "metadata": {
        "id": "wnU5x5ne3bSj"
      }
    }
  ]
}