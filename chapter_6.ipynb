{
  "nbformat": 4,
  "nbformat_minor": 0,
  "metadata": {
    "colab": {
      "name": "chapter 6.ipynb",
      "provenance": [],
      "authorship_tag": "ABX9TyPcO70lvp90zaR16iHVctgx",
      "include_colab_link": true
    },
    "kernelspec": {
      "name": "python3",
      "display_name": "Python 3"
    },
    "language_info": {
      "name": "python"
    }
  },
  "cells": [
    {
      "cell_type": "markdown",
      "metadata": {
        "id": "view-in-github",
        "colab_type": "text"
      },
      "source": [
        "<a href=\"https://colab.research.google.com/github/instone1031/114514/blob/main/chapter_6.ipynb\" target=\"_parent\"><img src=\"https://colab.research.google.com/assets/colab-badge.svg\" alt=\"Open In Colab\"/></a>"
      ]
    },
    {
      "cell_type": "markdown",
      "metadata": {
        "id": "0nd363mOplCE"
      },
      "source": [
        "# 연습문제"
      ]
    },
    {
      "cell_type": "markdown",
      "metadata": {
        "id": "Zy6RNaOPpk4A"
      },
      "source": [
        "# 1번"
      ]
    },
    {
      "cell_type": "code",
      "metadata": {
        "colab": {
          "base_uri": "https://localhost:8080/"
        },
        "id": "5C9jkninphPC",
        "outputId": "6fbcada8-bfa0-4fe9-911e-09e57d4f586f"
      },
      "source": [
        "for i in range(2, 101):                                                          # i 변수의 범위를 정한다\n",
        "  if i%2 == 0:                                                                   # i 변수를 2로 나눈후 나머지가 0일때\n",
        "    print(i, end = \" \")                                                          # 최종값을 출력한다"
      ],
      "execution_count": 5,
      "outputs": [
        {
          "output_type": "stream",
          "name": "stdout",
          "text": [
            "2 4 6 8 10 12 14 16 18 20 22 24 26 28 30 32 34 36 38 40 42 44 46 48 50 52 54 56 58 60 62 64 66 68 70 72 74 76 78 80 82 84 86 88 90 92 94 96 98 100 "
          ]
        }
      ]
    },
    {
      "cell_type": "markdown",
      "metadata": {
        "id": "FopMWfl4qft6"
      },
      "source": [
        "# 2번"
      ]
    },
    {
      "cell_type": "code",
      "metadata": {
        "colab": {
          "base_uri": "https://localhost:8080/"
        },
        "id": "wtiIkQtTqaHd",
        "outputId": "ac20d64b-ac6e-41e5-9d50-478fd7248f55"
      },
      "source": [
        "year = 0                                                                         # year값을 0으로 정한다\n",
        "balance = 1000                                                                   # balance값을 1000으로 정한다\n",
        "\n",
        "while balance <= 2000:                                                           # balance값이 2000보다 작을때\n",
        "  year = year + 1\n",
        "  interest = balance * 0.07                                                      # balance값에 대한 수식을 만든다\n",
        "  balance = balance + interest\n",
        "print(year, \"년이 걸립니다.\")                                                    # 문자열과 변수값을 출력한다"
      ],
      "execution_count": 2,
      "outputs": [
        {
          "output_type": "stream",
          "name": "stdout",
          "text": [
            "11 년이 걸립니다.\n"
          ]
        }
      ]
    },
    {
      "cell_type": "markdown",
      "metadata": {
        "id": "uDL-BUKtrHnJ"
      },
      "source": [
        "# 3번"
      ]
    },
    {
      "cell_type": "code",
      "metadata": {
        "colab": {
          "base_uri": "https://localhost:8080/"
        },
        "id": "X42c_QxCq9bN",
        "outputId": "7cae31b1-4be5-4aec-ec6e-9dcae5834f1c"
      },
      "source": [
        "n = 1234                                                                         # n값을 1234로 정한다\n",
        "sum = 0                                                                          # sum값을 0으로 정한다\n",
        "while n > 0:                                                                     # n값이 0보다 크면\n",
        "  digit = n % 10                                                                 # n값을 10으로 나눈 나머지를 구하는 수식을 만든다\n",
        "  sum = sum + digit                                                              # 두 변수를 합하는 수식을 만든다\n",
        "  n = n // 10                                                                   \n",
        "print(sum)                                                                       # 변수값을 출력한다"
      ],
      "execution_count": 6,
      "outputs": [
        {
          "output_type": "stream",
          "name": "stdout",
          "text": [
            "10\n"
          ]
        }
      ]
    },
    {
      "cell_type": "markdown",
      "metadata": {
        "id": "6eCEsPS_rZiM"
      },
      "source": [
        "# 4번"
      ]
    },
    {
      "cell_type": "code",
      "metadata": {
        "colab": {
          "base_uri": "https://localhost:8080/"
        },
        "id": "yGDgoIZHrghf",
        "outputId": "78d3a74d-1fc4-432b-df81-20e86cd16869"
      },
      "source": [
        "ans = 0                                                                          # ans값을 0으로 정한다\n",
        "while ans != 3*9:                                                                # ans값과 !값이 동일할때\n",
        "  ans = int(input(\"3 x 9는?\"))                                                   # 정수열 변수를 입력받는다\n",
        "print(\"맞았습니다.\")                                                             # 문자열을 출력한다"
      ],
      "execution_count": 9,
      "outputs": [
        {
          "output_type": "stream",
          "name": "stdout",
          "text": [
            "3 x 9는?27\n",
            "맞았습니다.\n"
          ]
        }
      ]
    },
    {
      "cell_type": "markdown",
      "metadata": {
        "id": "DY5iUTtNr7Pm"
      },
      "source": [
        "# 5번"
      ]
    },
    {
      "cell_type": "code",
      "metadata": {
        "colab": {
          "base_uri": "https://localhost:8080/"
        },
        "id": "RBIAa3fXrJE4",
        "outputId": "4e572b57-d901-4a64-9f44-5baae1d8c865"
      },
      "source": [
        "sum = 0                                                                          # sum값을 0으로 정한다\n",
        "while True:                                                                      # 무한루프를 만든다\n",
        "  x = int(input(\"정수를 입력하시오: \"))                                          # 문자열 변수 x를 받는다\n",
        "  if x ==0:                                                                      # x값이 0이라면\n",
        "    break;                                                                       # 무한루프를 종료한다\n",
        "  sum = sum + x  \n",
        "print(\"합은 \", sum, \"입니다. \")                                                  # 문자열과 변수값를 출력한다"
      ],
      "execution_count": 11,
      "outputs": [
        {
          "output_type": "stream",
          "name": "stdout",
          "text": [
            "정수를 입력하시오: 1\n",
            "정수를 입력하시오: 2\n",
            "정수를 입력하시오: 3\n",
            "정수를 입력하시오: 4\n",
            "정수를 입력하시오: 0\n",
            "합은  10 입니다. \n"
          ]
        }
      ]
    },
    {
      "cell_type": "markdown",
      "metadata": {
        "id": "SWsqALgnsecD"
      },
      "source": [
        "# 6번"
      ]
    },
    {
      "cell_type": "code",
      "metadata": {
        "colab": {
          "base_uri": "https://localhost:8080/"
        },
        "id": "QjqkyI-YsgFR",
        "outputId": "80e48050-cc17-4146-bd73-dfed4078fc78"
      },
      "source": [
        "from random import randint                                                       # random 모듈의 randint 함수를 불러온다\n",
        "\n",
        "for i in range(3):                                                               # i 변수의 범위를 정한다\n",
        "  d1 = randint(1, 6)                                                             # d1의 범위를 정한다\n",
        "  d2 = randint(1, 6)                                                             # d2의 범위를 정한다\n",
        "  print(\"첫번째 주사위=\", d1, \"두번째 주사위=\", d2)                              # 문자열과 변수값을 출력한다"
      ],
      "execution_count": 12,
      "outputs": [
        {
          "output_type": "stream",
          "name": "stdout",
          "text": [
            "첫번째 주사위= 1 두번째 주사위= 3\n",
            "첫번째 주사위= 2 두번째 주사위= 5\n",
            "첫번째 주사위= 1 두번째 주사위= 2\n"
          ]
        }
      ]
    },
    {
      "cell_type": "markdown",
      "metadata": {
        "id": "psYe6L8AtJfj"
      },
      "source": [
        "# 7번"
      ]
    },
    {
      "cell_type": "code",
      "metadata": {
        "id": "F7_PDp_esRLS"
      },
      "source": [
        "import turtle                                                                    # turtle 모듈을 불러온다\n",
        "t = turtle.Turtle()                                                              # 모듈을 t로 선언한다\n",
        "t.shape(\"turtle\")                                                                # 아이콘의 모양을 거북이 모양으로 한다\n",
        "t.left(90)                                                                       # 왼쪽으로 90도 회전한다\n",
        "\n",
        "for i in range(1,7):                                                             # i 변수의 범위를 정한다\n",
        "  t.forward(100)                                                                 # 앞으로 100픽셀 이동한다\n",
        "  t.forward(-30)                                                                 # 앞으로 -30픽셀 이동한다\n",
        "  t.left(60)                                                                     # 왼쪽으로 60도 회전한다\n",
        "  t.forward(30)                                                                  # 앞으로 30픽셀 이동한다\n",
        "  t.forward(-30)\n",
        "\n",
        "  t.right(120)                                                                   # 오른쪽으로 120도 회전한다\n",
        "  t.forward(30)\n",
        "  t.forward(-30)\n",
        "\n",
        "  t.left(60)\n",
        "  t.forward(-70)                                                                 # 앞으로 -70픽셀 이동한다\n",
        "  t.left(60)\n",
        "  t._screen.exitonclick()                                                        # 눌러서 종료할수있도록 설정한다"
      ],
      "execution_count": null,
      "outputs": []
    },
    {
      "cell_type": "markdown",
      "metadata": {
        "id": "6zjikA9mvfvy"
      },
      "source": [
        "# 8번"
      ]
    },
    {
      "cell_type": "code",
      "metadata": {
        "id": "Dp4dFr6uvhOt"
      },
      "source": [
        "import turtle                                                                    # turtle 모듈을 불러온다\n",
        "\n",
        "myPen = turtle.Turtle()                                                          # 모듈을 myPen으로 선언한다\n",
        "myPen.speed(0)                                                                   # 아이콘의 속도를 변경한다\n",
        "myPen.color(\"#ff0000\")                                                           # 선의 색을 변경한다\n",
        "\n",
        "for j in range(1,11):                                                            # j 변수의 범위를 정한다\n",
        "  for i in range(1, 6):                                                          # i 변수의 범위를 정한다\n",
        "    myPen.left(144)                                                              # 왼쪽으로 144도 회전한다\n",
        "    myPen.forward(200)                                                           # 앞으로 200픽셀 이동한다\n",
        "  myPen.left(10)                                                                 # 왼쪽으로 10도 회전한다\n",
        "myPen._screen.exitonclick()                                                      # 눌러서 종료할수있도록 설정한다"
      ],
      "execution_count": null,
      "outputs": []
    },
    {
      "cell_type": "markdown",
      "metadata": {
        "id": "VM6ljBElyT_z"
      },
      "source": [
        "# 9번"
      ]
    },
    {
      "cell_type": "code",
      "metadata": {
        "id": "RL7pNiwLycZx"
      },
      "source": [
        "import turtle                                                                    # turtle 모듈을 불러온다\n",
        "import random                                                                    # random 모듈을 불러온다\n",
        "\n",
        "t = turtle.Turtle()                                                              # 모듈을 t로 선언한다\n",
        "t.shape(\"turtle\")                                                                # 아이콘의 모양을 거북이 모양으로 변경한다\n",
        "\n",
        "for i in range(1, 11):                                                           # i 변수의 범위를 정한다\n",
        "  t.up()                                                                         # 아이콘을 올린다\n",
        "  x = random.randint(-200, 200)                                                  # x값의 범위를 부여한다\n",
        "  y = random.randint(-200, 200)                                                  # y값의 범위를 부여한다\n",
        "  r = random.randint(10, 200)                                                    # r값의 범위를 부여한다\n",
        "  t.goto(x, y)                                                                   # (x, y)좌표로 이동한다\n",
        "  t.down()                                                                       # 아이콘을 내린다\n",
        "  t.circle(r)                                                                    # 반지름이 r인 원을 그린다\n",
        "t._screen.exitonclick()                                                          # 눌러서 종료할수있도록 설정한다"
      ],
      "execution_count": null,
      "outputs": []
    },
    {
      "cell_type": "markdown",
      "metadata": {
        "id": "secMSAkKzgit"
      },
      "source": [
        "# 10번"
      ]
    },
    {
      "cell_type": "code",
      "metadata": {
        "id": "v21WE5RyzhzR"
      },
      "source": [
        "import turtle                                                                    # turtle 모듈을 불러온다\n",
        "\n",
        "t = turtle.Turtle()                                                              # 모듈을 t로 선언한다\n",
        "t.shape(\"turtle\")                                                                # 아이콘의 모양을 거북이 모양으로 변경한다\n",
        "\n",
        "for i in range(5):                                                               # i변수의 범위를 정한다\n",
        "  t.fd(200);                                                                     # 앞으로 200픽셀 이동한다\n",
        "  t.rt(90)                                                                       # 오른쪽으로 90도 회전한다\n",
        "  t.fd(20);                                                                      # 앞으로 20픽셀 이동한다\n",
        "  t.rt(90)                                                                 \n",
        "  t.fd(200);\n",
        "  t.lt(90)                                                                       # 왼쪽으로 90도 회전한다\n",
        "  t.fd(20);                 \n",
        "  t.left(90)\n",
        "t._screen.exitonclick()                                                          # 눌러서 종료할수있도록 설정한다"
      ],
      "execution_count": null,
      "outputs": []
    },
    {
      "cell_type": "markdown",
      "metadata": {
        "id": "yOji3Xx20OJA"
      },
      "source": [
        "# 11번"
      ]
    },
    {
      "cell_type": "code",
      "metadata": {
        "id": "Dd_78_kQ0PRo"
      },
      "source": [
        "import turtle                                                                    # turtle 모듈을 불러온다\n",
        "\n",
        "t = turtle.Turtle()                                                              # 모듈을 t로 선언한다\n",
        "t.shape(\"turtle\")                                                                # 아이콘 모양을 거북이모양으로 변경한다\n",
        "t.color('red', 'Yellow')                                                         # 선의 색을 빨강과 노랑으로 변경한다\n",
        "t.begin_fill()                                                                   # 색을 채운다\n",
        "while True:                                                                      # 무한루프를 만든다\n",
        "  t.fd(200)                                                                      # 앞으로 200픽셀 이동한다\n",
        "  t.lt(170)                                                                      # 왼쪽으로 170도 회전한다\n",
        "  if abs(t.pos()) < 1:                                                           # 현재 t값의 절대값이 1보다 작을때\n",
        "    break                                                                        # 무한루프를 종료한다\n",
        "t.end_fill()                                                                     # 채우기를 종료한다\n",
        "t._screen.exitonclick()                                                          # 눌러서 종료할수있도록 설정한다"
      ],
      "execution_count": null,
      "outputs": []
    },
    {
      "cell_type": "markdown",
      "metadata": {
        "id": "ic5ZSuxW12M4"
      },
      "source": [
        "# 12번"
      ]
    },
    {
      "cell_type": "code",
      "metadata": {
        "id": "aZEMxp591_vJ"
      },
      "source": [
        "import turtle                                                                    # turtle 모듈을 불러온다\n",
        "import math                                                                      # math 모듈을 불러온다\n",
        "t = turtle.Turtle()                                                              # 모듈을 t로 선언한다\n",
        "t.shape(\"turtle\")                                                                # 아이콘의 모양을 거북이모양으로 변경한다\n",
        "t.color('red', 'yellow')                                                         # 선의 색을 빨강과 노랑으로 정한다\n",
        "\n",
        "for x in range(0, 360):                                                          # x 변수의 범위를 정한다\n",
        "  t.goto(x, 200 * math.sin(x*3.14/180))                                          # 임의의 좌표로 이동한다\n",
        "t._screen.exitonclick()                                                          # 눌러서 종료할수있도록 설정한다"
      ],
      "execution_count": null,
      "outputs": []
    },
    {
      "cell_type": "markdown",
      "metadata": {
        "id": "RZp6j6Vkmwbj"
      },
      "source": [
        "# 도전문제"
      ]
    },
    {
      "cell_type": "markdown",
      "metadata": {
        "id": "Hjvakw9xmxi5"
      },
      "source": [
        "# 1번"
      ]
    },
    {
      "cell_type": "code",
      "metadata": {
        "id": "vCW80j4GmzBv"
      },
      "source": [
        "import turtle                                                                    # turtle 모듈을 불러온다\n",
        "t = turtle.Turtle()                                                              # 모듈을 t로 선언한다\n",
        "t.shape(\"turtle\")                                                                # 아이콘의 모양을 거북이모양으로 변경한다\n",
        "\n",
        "for i in range(6):                                                               # i 변수의 범위를 정한다\n",
        "  t.forward(100)                                                                 # 앞으로 100픽셀 이동한다\n",
        "  t.left(360/6)                                                                  # 왼쪽으로 60도 회전한다"
      ],
      "execution_count": null,
      "outputs": []
    },
    {
      "cell_type": "markdown",
      "metadata": {
        "id": "AKqTQUJ9n1Nd"
      },
      "source": [
        "# 2번"
      ]
    },
    {
      "cell_type": "code",
      "metadata": {
        "id": "eSn3HDIOn2JO"
      },
      "source": [
        "import turtle                                                                    # turtle 모듈을 불러온다\n",
        "t = turtle.Turtle()                                                              # 모듈을 t로 선언한다\n",
        "t.shape(\"turtle\")                                                                # 아이콘의 모양을 거북이모양으로 변경한다\n",
        "\n",
        "s = turtle.textpoint(\"\",\"몇각형을 원하시나요?: \")                                # 정수형 변수 s를 받는다\n",
        "n = int(s)                                                                       # 정수형을 문자형으로 변환한다\n",
        "s = turtle.textpoint(\"\",\"한변의 크기를 입력해주세요: \")                         \n",
        "len = int(s)\n",
        "for i in range(n):                                                               # i 변수의 범위를 정한다\n",
        "  t.forward(len)                                                                 # 앞으로 len변수값만큼 이동한다\n",
        "  t.left(360/n)                                                                  # 왼쪽으로 360/n만큼 회전한다"
      ],
      "execution_count": null,
      "outputs": []
    },
    {
      "cell_type": "markdown",
      "metadata": {
        "id": "7s1fOH6VpZ2x"
      },
      "source": [
        "# 3번"
      ]
    },
    {
      "cell_type": "code",
      "metadata": {
        "id": "YMZauSIvpbGw"
      },
      "source": [
        "import turtle                                                                    # turtle 모듈을 불러온다\n",
        "import random                                                                    # random 모듈을 불러온다\n",
        "t = turtle.Turtle()                                                              # 모듈을 t로 선언한다\n",
        "t.shape(\"turtle\")                                                                # 아이콘의 모양을 거북이모양으로 변경한다 \n",
        "\n",
        "for i in range(30):                                                              # i 변수의 범위를 정한다\n",
        "  length = random.randint(1, 100)                                                # length변수의 범위를 정한다\n",
        "  t.forward(length)                                                              # 앞으로 변수값만큼 이동한다\n",
        "  angle = random.randint(1, 4)                                                   # angle변수의 범위를 정한다\n",
        "  t.right(90*angle)                                                              # 오른쪽으로 변수값만큼 회전한다"
      ],
      "execution_count": null,
      "outputs": []
    },
    {
      "cell_type": "markdown",
      "metadata": {
        "id": "X_R_l3QtqeHb"
      },
      "source": [
        "# 4번"
      ]
    },
    {
      "cell_type": "code",
      "metadata": {
        "colab": {
          "base_uri": "https://localhost:8080/"
        },
        "id": "U7Kbe7EVqfYz",
        "outputId": "da504644-4504-4702-d441-2711b0377646"
      },
      "source": [
        "i = 1                                                                            # i 변수를 정한다\n",
        "while i <= 9:                                                                    # i 변수가 9이하일때\n",
        "  j = 1                                                                          # j 변수를 정한다\n",
        "  while j <= 9:                                                                  # j 변수가 9이하일때\n",
        "    print(i,\"*\",j,\"=\",i*j)                                                       # 문자열과 최종변수값을 출력한다\n",
        "    j = j+1\n",
        "  print(\" \")                                                                     # 공백을 출력한다\n",
        "  i = i+1"
      ],
      "execution_count": 1,
      "outputs": [
        {
          "output_type": "stream",
          "name": "stdout",
          "text": [
            "1 * 1 = 1\n",
            "1 * 2 = 2\n",
            "1 * 3 = 3\n",
            "1 * 4 = 4\n",
            "1 * 5 = 5\n",
            "1 * 6 = 6\n",
            "1 * 7 = 7\n",
            "1 * 8 = 8\n",
            "1 * 9 = 9\n",
            " \n",
            "2 * 1 = 2\n",
            "2 * 2 = 4\n",
            "2 * 3 = 6\n",
            "2 * 4 = 8\n",
            "2 * 5 = 10\n",
            "2 * 6 = 12\n",
            "2 * 7 = 14\n",
            "2 * 8 = 16\n",
            "2 * 9 = 18\n",
            " \n",
            "3 * 1 = 3\n",
            "3 * 2 = 6\n",
            "3 * 3 = 9\n",
            "3 * 4 = 12\n",
            "3 * 5 = 15\n",
            "3 * 6 = 18\n",
            "3 * 7 = 21\n",
            "3 * 8 = 24\n",
            "3 * 9 = 27\n",
            " \n",
            "4 * 1 = 4\n",
            "4 * 2 = 8\n",
            "4 * 3 = 12\n",
            "4 * 4 = 16\n",
            "4 * 5 = 20\n",
            "4 * 6 = 24\n",
            "4 * 7 = 28\n",
            "4 * 8 = 32\n",
            "4 * 9 = 36\n",
            " \n",
            "5 * 1 = 5\n",
            "5 * 2 = 10\n",
            "5 * 3 = 15\n",
            "5 * 4 = 20\n",
            "5 * 5 = 25\n",
            "5 * 6 = 30\n",
            "5 * 7 = 35\n",
            "5 * 8 = 40\n",
            "5 * 9 = 45\n",
            " \n",
            "6 * 1 = 6\n",
            "6 * 2 = 12\n",
            "6 * 3 = 18\n",
            "6 * 4 = 24\n",
            "6 * 5 = 30\n",
            "6 * 6 = 36\n",
            "6 * 7 = 42\n",
            "6 * 8 = 48\n",
            "6 * 9 = 54\n",
            " \n",
            "7 * 1 = 7\n",
            "7 * 2 = 14\n",
            "7 * 3 = 21\n",
            "7 * 4 = 28\n",
            "7 * 5 = 35\n",
            "7 * 6 = 42\n",
            "7 * 7 = 49\n",
            "7 * 8 = 56\n",
            "7 * 9 = 63\n",
            " \n",
            "8 * 1 = 8\n",
            "8 * 2 = 16\n",
            "8 * 3 = 24\n",
            "8 * 4 = 32\n",
            "8 * 5 = 40\n",
            "8 * 6 = 48\n",
            "8 * 7 = 56\n",
            "8 * 8 = 64\n",
            "8 * 9 = 72\n",
            " \n",
            "9 * 1 = 9\n",
            "9 * 2 = 18\n",
            "9 * 3 = 27\n",
            "9 * 4 = 36\n",
            "9 * 5 = 45\n",
            "9 * 6 = 54\n",
            "9 * 7 = 63\n",
            "9 * 8 = 72\n",
            "9 * 9 = 81\n",
            " \n"
          ]
        }
      ]
    },
    {
      "cell_type": "markdown",
      "metadata": {
        "id": "VPohG-4HraiB"
      },
      "source": [
        "# 5번"
      ]
    },
    {
      "cell_type": "code",
      "metadata": {
        "id": "PxxhE_l_rXQt"
      },
      "source": [
        "import turtle                                                                    # turtle 모듈을 불러온다\n",
        "t = turtle.Turtle()                                                              # 모듈을 t로 선언한다\n",
        "t.shape(\"turtle\")                                                                # 아이콘의 모양을 거북이모양으로 변경한다\n",
        "\n",
        "i = 0                                                                            # i 변수의 값을 정한다\n",
        "while i < 5:                                                                     # i 변수가 5미만일때\n",
        "  t.forward(50)                                                                  # 앞으로 50픽셀 이동한다\n",
        "  t.right(144)                                                                   # 오른쪽으로 144도 회전한다"
      ],
      "execution_count": null,
      "outputs": []
    },
    {
      "cell_type": "markdown",
      "metadata": {
        "id": "b7EUYtl6stoQ"
      },
      "source": [
        "# 6번"
      ]
    },
    {
      "cell_type": "code",
      "metadata": {
        "id": "Lu_m0N_wsu1b"
      },
      "source": [
        "import turtle                                                                    # turtle 모듈을 불러온다\n",
        "import random                                                                    # random 모듈을 불러온다\n",
        "\n",
        "colors = [\"red\",\"purple\",\"blue\",\"green\",\"yellow\",\"orange\"]                       # colors 리스트를 만든다\n",
        "t = turtle.Turtle()                                                              # 모듈을 t로 선언한다\n",
        "turtle.bgcolor(\"black\")                                                          # 배경색을 검은색으로 변경한다\n",
        "t.speed(0)                                                                       # 아이콘의 속도를 0으로 한다\n",
        "t.width(3)                                                                       # 선의 두께를 3픽셀로 한다\n",
        "\n",
        "length = 10                                                                      # 초기선의 길이를 10으로 한다\n",
        "\n",
        "while length < 500:                                                              # length 변수가 500미만일때\n",
        "  t.forward(length)                                                              # 앞으로 변수값만큼 이동한다\n",
        "  t.pencolor(colors[length%6])                                                   # 선의 색상을 변경한다\n",
        "  angle = random.randint(1,100)                                                  # angle 변수의 범위를 정한다\n",
        "  t.right(angle)                                                                 # 오른쪽으로 변수값만큼 회전한다\n",
        "  length += 5                                                                    # 선의 길이를 5만큼 늘린다 "
      ],
      "execution_count": null,
      "outputs": []
    },
    {
      "cell_type": "markdown",
      "metadata": {
        "id": "w0xbmweEu1ZR"
      },
      "source": [
        "# 7번"
      ]
    },
    {
      "cell_type": "code",
      "metadata": {
        "id": "TbY_pCJiu2si"
      },
      "source": [
        "import random                                                                    # random 모듈을 불러온다\n",
        "\n",
        "tries = 0                                                                        # tries 변수를 0으로 한다\n",
        "guess = 0                                                                        # guess 변수를 0으로 한다\n",
        "answer = random.randint(1,100)                                                   # answer 변수의 범위를 정한다\n",
        "\n",
        "print(\"1부터 100 사이의 숫자를 맞추시오: \")                                      # 문자열을 출력한다\n",
        "\n",
        "while guess != answer:                                                           # guess 변수가 answer 변수와 같지않을때\n",
        "  if tries < 10:                                                                 # tries 변수가 10미만일때\n",
        "    guess = int(input(\"숫자를 입력하시오: \"))                                    # 변수 guess를 받는다\n",
        "    tries = tries + 1\n",
        "    if guess < answer:                                                           # guess 변수가 answer 변수보다 작을때\n",
        "      print(\"낮음!\")                                                             # 문자열을 출력한다\n",
        "    elif guess > answer:                                                         # guess 변수가 answer 변수보다 클때\n",
        "  else:                                                                          # 조건을 만족하지 못한다면\n",
        "    print(\"시도횟수를 초과하였습니다.\")                 \n",
        "    break                                                                        # 루프를 종료한다\n",
        "\n",
        "if guess == answer:                                                              # 두 변수가 같을때\n",
        "  print(\"축하합니다. 시도횟수= \", tries)                                         # 문자열과 변수값을 출력한다\n",
        "else:                                                                            # 조건을 만족하지 못하면\n",
        "  print(\"정답은 \", answer)                                                      "
      ],
      "execution_count": null,
      "outputs": []
    },
    {
      "cell_type": "markdown",
      "metadata": {
        "id": "PKWslekrxv_L"
      },
      "source": [
        "# 8번"
      ]
    },
    {
      "cell_type": "code",
      "metadata": {
        "id": "Q4c6Bh-ixxhs"
      },
      "source": [
        "import random                                                                    # random 모듈을 불러온다\n",
        "\n",
        "while True:                                                                      # 무한루프를 만든다\n",
        "  q = random.randint(0,1)                                                        # q 변수의 범위를 정한다\n",
        "  x = random.randint(1,100)                                                      # x 변수의 범위를 정한다\n",
        "  y = random.randint(1,100)                                                      # y 변수의 범위를 정한다\n",
        "  if(q == 1) & (x > y):                                                          # q 변수가 1이거나 x 가 y보다 클때\n",
        "    print(x,\"-\",y,\"=\",end= \" \")                                                  # 문자열과 변수값을 출력한다\n",
        "    answer = int(input())                                                        # 변수 answer를 받는다\n",
        "    if answer == x-y:                                                            # answer 변수가 x-y와 같을때\n",
        "      print(\"잘했어요!!\")                                                        # 문자열을 출력한다\n",
        "    else:                                                                        # 조건을 만족하지 못한다면\n",
        "      print(\"다음번에는 잘할 수 있죠?\")                                      \n",
        "  else:\n",
        "    print(x,\"+\",y,\"=\",end= \" \")                                                 \n",
        "    answer = int(input())\n",
        "    if answer == x+y:                                                            # answer 변수가 x+y와 같을때\n",
        "      print(\"잘했어요!!\")\n",
        "    else:\n",
        "      print(\"다음번에는 잘할 수 있죠?\")"
      ],
      "execution_count": null,
      "outputs": []
    },
    {
      "cell_type": "markdown",
      "metadata": {
        "id": "iFW6zULz2ZD4"
      },
      "source": [
        "# 9번"
      ]
    },
    {
      "cell_type": "code",
      "metadata": {
        "id": "xoYR1una2aJC"
      },
      "source": [
        "import random                                                                    # random 모듈을 불러온다\n",
        "number = random.randint(1,8)                                                     # number 변수의 범위를 정한다\n",
        "\n",
        "list = [\"한 점의 의심도 없이 맞습니다.\",\"할 수 있습니다.\",\"물론입니다.\",\n",
        "        \"글쎄요 열심히 해야 할 것입니다.\",\"안 될 것 같습니다.\",\n",
        "        \"조금 더 노력하세요.\",\"행운을 빕니다.\",\"다음 달에 할 수 있을겁니다\"]     # list를 저장한다\n",
        "while True:                                                                      # 무한루프를 만든다\n",
        "  name = input(\"이름:(종료하려면 엔터키)\")                                       # name 변수를 입력받는다\n",
        "  if name == '':                                                                 # name 변수가 공백일때 \n",
        "    break;                                                                       # 루프를 종료한다\n",
        "  question = input(\"무엇에 대하여 알고 싶은가요?\")                               # question 변수를 입력받는다\n",
        "  print(name,\"님\",\"\\\"\",qusetion,\"\\\"에 대하여 질문 주셨군요.\")                    # 문자열과 변수값을 출력한다\n",
        "  print(\"운명의 주사위를 굴려볼게요...\")                                         # 문자열을 출력한다\n",
        "  print(list[number-1])                                                          # list중 하나를 출력한다"
      ],
      "execution_count": null,
      "outputs": []
    }
  ]
}