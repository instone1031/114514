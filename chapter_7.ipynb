{
  "nbformat": 4,
  "nbformat_minor": 0,
  "metadata": {
    "colab": {
      "name": "chapter_7.ipynb",
      "provenance": [],
      "collapsed_sections": [],
      "include_colab_link": true
    },
    "kernelspec": {
      "name": "python3",
      "display_name": "Python 3"
    },
    "language_info": {
      "name": "python"
    }
  },
  "cells": [
    {
      "cell_type": "markdown",
      "metadata": {
        "id": "view-in-github",
        "colab_type": "text"
      },
      "source": [
        "<a href=\"https://colab.research.google.com/github/instone1031/114514/blob/main/chapter_7.ipynb\" target=\"_parent\"><img src=\"https://colab.research.google.com/assets/colab-badge.svg\" alt=\"Open In Colab\"/></a>"
      ]
    },
    {
      "cell_type": "markdown",
      "metadata": {
        "id": "Lwd4auu3UZw6"
      },
      "source": [
        "# 연습문제"
      ]
    },
    {
      "cell_type": "markdown",
      "metadata": {
        "id": "HiVaQwNbUcZa"
      },
      "source": [
        "# 1번"
      ]
    },
    {
      "cell_type": "code",
      "metadata": {
        "id": "4fLTWZjvReSH"
      },
      "source": [
        "import turtle                                                                    # turtle 모듈을 불러온다\n",
        "t = turtle.Turtle()                                                              # 모듈을 t로 선언한다\n",
        "t.shape(\"turtle\")                                                                # 아이콘의 모양을 거북이모양으로 변경한다\n",
        "t.color(\"black\",\"white\")                                                         # 아이콘의 색을 검정과 하양으로 변경한다\n",
        "s = turtle.Screen(); s.bgcolor('skyblue');                                       # 화면모듈을 s로 선언하고 배경을 하늘색으로 변경한다\n",
        "\n",
        "def draw_snowman(x, y):                                                          # 눈사람을 그리는 함수를 불러온다\n",
        "  t.up()                                                                         # 아이콘을 올린다\n",
        "  t.goto(x, y)                                                                   # (x, y) 좌표로 이동한다\n",
        "  t.begin_fill()                                                                 # 채우기 시작한다\n",
        "  t.circle(20)                                                                   # 반지름이 20인 원을 그린다\n",
        "  t.goto(x, y-25)                                                                # y좌표를 -25만큼 이동한다\n",
        "  t.setheading(135)                                                              # 아이콘의 머리가 135도로 돌아간다\n",
        "  t.forward(50)                                                                  # 앞으로 50픽셀 이동한다\n",
        "  t.backward(50)                                                                 # 뒤로 50픽셀 이동한다\n",
        "\n",
        "  t.setheading(30)                                                               # 아이콘의 머리가 50도로 돌아간다\n",
        "  t.forward(50)     \n",
        "  t.backward(50)\n",
        "  t.setheading(0)                                                                # 아이콘의 머리가 0도로 돌아간다\n",
        "\n",
        "  t.begin_fill()\n",
        "  t.circle(15)                                                                   # 반지름이 15인 원을 그린다\n",
        "  t.end_fill()                                                                   # 채우기를 멈춘다\n",
        "  t.goto(x, y-70)                                                                # y좌표가 -70만큼 이동한다\n",
        "  t.brgin_fill()\n",
        "  t.circle(30)                                                                   # 반지름이 30인 원을 그린다\n",
        "  t.end_fill()\n",
        "\n",
        "draw_snowman(0,0)                                                                # (0,0)좌표에서 눈사람을 그린다\n",
        "draw_snowman(100,0)                                                              # (100,0)좌표에서 눈사람을 그린다\n",
        "draw_snowman(200,0)                                                              # (200,0)좌표에서 눈사람을 그린다\n",
        "t._screen.exitonclick()                                                          # 눌러서 종료할수있도록 설정한다"
      ],
      "execution_count": null,
      "outputs": []
    },
    {
      "cell_type": "markdown",
      "metadata": {
        "id": "TAv91WV9axDa"
      },
      "source": [
        "# 2번"
      ]
    },
    {
      "cell_type": "code",
      "metadata": {
        "id": "7zPz0_sRayCk"
      },
      "source": [
        "import turtle                                                                    # turtle 모듈을 불러온다\n",
        "t = turtle.Turtle()                                                              # 모듈을 t로 선언한다\n",
        "t.shape(\"turtle\")                                                                # 아이콘의 모양을 거북이모양으로 변경한다\n",
        "t.speed(0)                                                                       # 아이콘의 속도를 0으로 한다\n",
        "\n",
        "def hexagon():                                                                   # 6각형을 만드는 함수를 만든다\n",
        "  for i in range(6):                                                             # i 변수의 범위를 정한다\n",
        "    turtle.fd(100)                                                               # 앞으로 100픽셀 이동한다\n",
        "    turtle.left(360/6)                                                           # 왼쪽으로 60도 회전한다\n",
        "  for i in range(6):\n",
        "    hexagon()                                                                    # 6각형을 만든다\n",
        "    t.fd(100)\n",
        "    t.right(60)                                                                  # 오른쪽으로 60도 회전한다\n",
        "t._screen.exitonclick                                                            # 눌러서 종료할수있도록 설정한다"
      ],
      "execution_count": null,
      "outputs": []
    },
    {
      "cell_type": "markdown",
      "metadata": {
        "id": "pKiHdDCAb-vA"
      },
      "source": [
        "# 3번"
      ]
    },
    {
      "cell_type": "code",
      "metadata": {
        "id": "daAFUgfcb_3L"
      },
      "source": [
        "import turtle                                                                    # turtle 모듈을 불러온다\n",
        "t = turtle.Turtle()                                                              # 모듈을 t로 선언한다\n",
        "t.shape(\"turtle\")                                                                # 아이콘의 모양을 거북이모양으로 변경한다\n",
        "t.speed(9)                                                                       # 아이콘의 속도를 9로 한다\n",
        "\n",
        "def f(x):                                                                        # f(x)함수를 만든다\n",
        "  return x**2 + 1                                                                # x**2 + 1 값을 반환한다\n",
        "\n",
        "t.goto(200,0)                                                                    # (200,0)좌표로 이동한다\n",
        "t.goto(0,0)                                                                      # (0,0)좌표로 이동한다\n",
        "t.goto(0,200)                                                                    # (0,200)좌표로 이동한다\n",
        "t.goto(0,0)                                                                      # (0,0)좌표로 이동한다\n",
        "\n",
        "for x in range(150):                                                             # x 변수의 범위를 정한다\n",
        "  t.goto(x, int(0.01*f(x)))                                                      # 변수값에 따른 좌표로 이동한다\n",
        "\n",
        "t._screen.exitonclick()                                                          # 눌러서 종료할수 있도록 설정한다"
      ],
      "execution_count": null,
      "outputs": []
    },
    {
      "cell_type": "markdown",
      "metadata": {
        "id": "VXvX5-Sxegbp"
      },
      "source": [
        "# 4번"
      ]
    },
    {
      "cell_type": "code",
      "metadata": {
        "id": "KMEQUOoTehil"
      },
      "source": [
        "import turtle                                                                    # turtle 모듈을 불러온다\n",
        "t = turtle.Turtle()                                                              # 모듈을 t로 선언한다\n",
        "t.shape(\"turtle\")                                                                # 아이콘의 모양을 거북이모양으로 변경한다\n",
        "t.speed(1)                                                                       # 아이콘의 속도를 1로 한다\n",
        "\n",
        "def draw_line():                                                                 # 선을 그리는 함수를 만든다\n",
        "  t.fd(100)                                                                      # 앞으로 100픽셀 이동한다\n",
        "  t.backward(100)                                                                # 뒤로 100픽셀 이동한다\n",
        "\n",
        "for x in range(12):                                                              # x 변수의 범위를 정한다\n",
        "  t.right(30)                                                                    # 오른쪽으로 30도 회전한다\n",
        "  draw_line()                                                                    # 선을 그린다\n",
        "\n",
        "t._screen.exitonclick()                                                          # 눌러서 종료할수있도록 설정한다"
      ],
      "execution_count": null,
      "outputs": []
    },
    {
      "cell_type": "markdown",
      "metadata": {
        "id": "e1n0hlVjfWxe"
      },
      "source": [
        "# 5번"
      ]
    },
    {
      "cell_type": "code",
      "metadata": {
        "id": "On6dxqU-fZzF"
      },
      "source": [
        "def happyBirthday(person):                                                       # 생일축하해주는 함수를 만든다\n",
        "  print(\"Happy birthday to you\")                                                 # 문자열을 출력한다\n",
        "  print(\"Happy birthday to you\")\n",
        "  print(\"Happy birthday, dear \" + person)                                        # 문자열과 변수값을 출력한다\n",
        "  print(\"Happy birthday to you\")\n",
        "\n",
        "happyBirthday(\"홍길동\")                                                          # 변수값을 넣고 함수를 실행한다"
      ],
      "execution_count": null,
      "outputs": []
    },
    {
      "cell_type": "markdown",
      "metadata": {
        "id": "zfpcnQcmixVg"
      },
      "source": [
        "# 6번"
      ]
    },
    {
      "cell_type": "code",
      "metadata": {
        "id": "Z-2O-fC7iyux"
      },
      "source": [
        "def sumProblem(x,y):                                                             # sumProblem 함수를 만든다\n",
        "  sum = x + y                                                                    # sum 변수를 만든다\n",
        "  sentence = \"정수\" + str(x) + \"+\" + str(y) + \"의 합은?\"                         # sentence 변수를 만든다\n",
        "  print(sentence)                                                                # 변수값을 출력한다\n",
        "\n",
        "def main():                                                                      # main 함수를 만든다\n",
        "  a = int(input(\"첫 번째 정수: \"))                                               # 변수 a를 입력받는다\n",
        "  b = int(input(\"두 번째 정수: \"))                                               # 변수 b를 입력받는다\n",
        "  sumProblem(a, b)                                                               # 변수값을 넣고 함수를 실행한다\n",
        "\n",
        "main()                                                                           # 함수를 실행한다"
      ],
      "execution_count": null,
      "outputs": []
    },
    {
      "cell_type": "markdown",
      "metadata": {
        "id": "MmIoFxtxlPp9"
      },
      "source": [
        "# 7번"
      ]
    },
    {
      "cell_type": "code",
      "metadata": {
        "id": "xLq5qW7Di5bD"
      },
      "source": [
        "PI = 3.14159265358979                                                            # PI값을 정한다\n",
        "\n",
        "def circleArea(radius):                                                          # 원의 면적을 구하는 함수를 만든다\n",
        "  return PI * radius * radius                                                    # 원의 면적 수식을 반환한다\n",
        "\n",
        "def circleCircumference(radius):                                                 # 원의 둘레를 구하는 함수를 만든다\n",
        "  return 2 * PI * radius                                                         # 원의 둘레 수식을 반환한다\n",
        "\n",
        "def main():\n",
        "  print(\"반지름이 5인 원의 면적: \", circleArea(5))                               # 문자열과 변수값을 출력한다\n",
        "  print(\"반지름이 5인 원의 둘레: \", circleCircumference(5))                     \n",
        "\n",
        "main()                                                                           # 함수를 실행한다"
      ],
      "execution_count": null,
      "outputs": []
    },
    {
      "cell_type": "markdown",
      "metadata": {
        "id": "1UQzaebimtLy"
      },
      "source": [
        "# 8번"
      ]
    },
    {
      "cell_type": "code",
      "metadata": {
        "id": "XyKBAgcamuMa"
      },
      "source": [
        "def add(a,b):                                                                    # 더하기 함수를 만든다\n",
        "  print(\"(%d + %d)\" % (a,b), end=\" \")                                            # 문자열과 변수값을 출력한다\n",
        "  return a + b                                                                   # a + b값을 반환한다\n",
        "\n",
        "def subtract(a,b):                                                               # 빼기 함수를 만든다\n",
        "  print(\"(%d - %d)\" % (a,b), end=\" \")                                           \n",
        "  return a - b                                                                   # a - b값을 반환한다\n",
        "\n",
        "def multiply(a,b):                                                               # 곱하기 함수를 만든다\n",
        "  print(\"(%d * %d)\" % (a,b), end=\" \")\n",
        "  return a * b                                                                   # a * b값을 반환한다\n",
        "\n",
        "def divide(a,b):                                                                 # 나누기 함수를 만든다\n",
        "  print(\"(%d / %d)\" % (a,b), end=\" \")\n",
        "  return a / b                                                                   # a / b값을 반환한다\n",
        "\n",
        "what = add(20, 10)                                                               # what 변수를 만든다\n",
        "print(\"= \", what)\n",
        "what = subtract(20, 10)\n",
        "print(\"= \", what)\n",
        "what = multiply(20, 10)\n",
        "print(\"= \", what)\n",
        "what = divide(20, 10)\n",
        "print(\"= \", what)"
      ],
      "execution_count": null,
      "outputs": []
    },
    {
      "cell_type": "markdown",
      "metadata": {
        "id": "IR_gL-8Xopd-"
      },
      "source": [
        "# 도전문제"
      ]
    },
    {
      "cell_type": "markdown",
      "metadata": {
        "id": "K_InpdCWotSE"
      },
      "source": [
        "# 1번"
      ]
    },
    {
      "cell_type": "code",
      "metadata": {
        "id": "XsTdGRHios9n"
      },
      "source": [
        "import turtle                                                                    # turtle 모듈을 불러온다\n",
        "t = turtle.Turtle()                                                              # 모듈을 t로 선언한다\n",
        "t.shape(\"turtle\")                                                                # 아이콘의 모양을 거북이모양으로 변경한다\n",
        "\n",
        "def shape(length):                                                               # 한변의 길이를 정하는 함수를 만든다\n",
        "  s = turtle.textinput(\"\",\"몇각형을 원하시나요?: \")                              # s 변수를 만든다\n",
        "  n = int(s)                                                                     # n 변수를 만든다\n",
        "\n",
        "  for i in range(n):                                                             # n 변수의 범위를 정한다\n",
        "    t.forward(length)                                                            # 앞으로 변수값만큼 이동한다\n",
        "    t.left(360/n)                                                                # 왼쪽으로 360을 n등분한만큼 회전한다\n",
        "\n",
        "t.up()                                                                           # 아이콘을 든다\n",
        "t.goto(-200,0)                                                                   # (-200,0)좌표로 이동한다\n",
        "t.down()                                                                         # 아이콘을 내린다\n",
        "shape(100);                                                                      # 100을 넣어 함수를 실행한다\n",
        "\n",
        "t.up()                                                                           # 아이콘을 든다\n",
        "t.goto(0,0)                                                                      # (0,0)좌표로 이동한다\n",
        "t.down()                                                                         # 아이콘을 내린다\n",
        "shape(100);                                                                      # 100을 넣어 함수를 실행한다\n",
        "t.up()                                                                           # 아이콘을 든다\n",
        "\n",
        "t.goto(200,0)                                                                    # (200,0)좌표로 이동한다\n",
        "t.down()                                                                         # 아이콘을 내린다\n",
        "shape(100);                                                                      # 100을 넣어 함수를 실행한다"
      ],
      "execution_count": null,
      "outputs": []
    },
    {
      "cell_type": "markdown",
      "metadata": {
        "id": "RL8EuAzrqEzO"
      },
      "source": [
        "# 2번"
      ]
    },
    {
      "cell_type": "code",
      "metadata": {
        "id": "8mneHZjgqGFM"
      },
      "source": [
        "import turtle                                                                    # turtle 모듈을 불러온다\n",
        "t = turtle.Turtle()                                                              # 모듈을 t로 선언한다\n",
        "t.shape(\"turtle\")                                                                # 아이콘의 모양을 거북이모양으로 변경한다\n",
        "\n",
        "def square(length,index):                                                        # 사각형을 만드는 함수를 만든다\n",
        "  t.color(colorList[index])                                                      # 선의 색을 리스트에서 정한다\n",
        "  t.begin_fill()                                                                 # 채우기를 시작한다\n",
        "  for i in range(4):                                                             # i 변수의 범위를 정한다\n",
        "    t.forward(length)                                                            # 앞으로 변수값만큼 이동한다\n",
        "    t.left(90)                                                                   # 왼쪽으로 90도 회전한다\n",
        "  t.end_fill()                                                                   # 채우기를 중단한다\n",
        "colorList = [\"red\",\"blue\",\"green\"]                                               # colorList를 만든다\n",
        "x = -200                                                                         # x 변수를 -200으로 정한다\n",
        "\n",
        "for i in range(len(colorList)):                                                  # i 변수에 색 리스트를 부여한다\n",
        "  t.up()                                                                         # 아이콘을 올린다\n",
        "  t.goto(x,0)                                                                    # (x,0)좌표로 이동한다\n",
        "  t.down()                                                                       # 아이콘을 내린다\n",
        "  square(100,i);                                                                 # 변수값만큼의 사각형을 그린다\n",
        "  x += 200"
      ],
      "execution_count": null,
      "outputs": []
    },
    {
      "cell_type": "markdown",
      "metadata": {
        "id": "mqc21rGJv2m_"
      },
      "source": [
        "# 3번"
      ]
    },
    {
      "cell_type": "code",
      "metadata": {
        "id": "amoIPIMFv35I"
      },
      "source": [
        "import turtle                                                                    # turtle 모듈을 불러온다\n",
        "t = turtle.Turtle()                                                              # 모듈을 t로 선언한다\n",
        "\n",
        "def n_polygon(n,length):                                                         # n각형을 만드는 함수를 만든다\n",
        "  for i in range(n):                                                             # i 변수의 범위를 정한다\n",
        "    t.forward(length)                                                            # 앞으로 변수값만큼 이동한다\n",
        "    t.left(360/n)                                                                # 왼쪽으로 360을 n등분한만큼 회전한다\n",
        "\n",
        "def get_color(index):                                                            # 색을 정하는 함수를 만든다\n",
        "  list = [\"red\",\"orange\",\"yellow\",\"green\",\"blue\",\"navy\",\"purple\"\n",
        "  \"gray\",\"skyblue\",\"pink\"]                                                       # 색 리스트를 만든다\n",
        "  t.color(list[index])                                                           # 리스트에서 색을 가져온다\n",
        "  t.begin_fill()                                                                 # 채우기를 시작한다\n",
        "  n_polygon(6,100)                                                               # 범위만큼의 n각형을 만든다\n",
        "  t.end_fill()                                                                   # 채우기를 중단한다\n",
        "\n",
        "for i in range(10):\n",
        "  t.left(20)                                                                     # 왼쪽으로 20도 회전한다\n",
        "  get_color(i)                                                                   # i 변수를 통해 색을 정한다"
      ],
      "execution_count": null,
      "outputs": []
    },
    {
      "cell_type": "markdown",
      "metadata": {
        "id": "ZgRdfiDVyY3k"
      },
      "source": [
        "# 4번"
      ]
    },
    {
      "cell_type": "code",
      "metadata": {
        "id": "OTff3wwhyZ0g"
      },
      "source": [
        "import turtle                                                                    # turtle 모듈을 불러온다\n",
        "t = turtle.Turtle()                                                              # 모듈을 t로 선언한다\n",
        "\n",
        "def circle(length):                                                              # 원을 만드는 함수를 만든다\n",
        "  t.circle(length)                                                               # 변수만큼의 원을 그린다\n",
        "  t.left(60)                                                                     # 왼쪽으로 60도 회전한다\n",
        "\n",
        "def drawit(x, y):                                                                # 그림을 그리는 함수를 만든다\n",
        "  t.penup()                                                                      # 펜을 올린다\n",
        "  t.goto(x,y)                                                                    # (x,y)좌표로 이동한다\n",
        "  t.pendown()                                                                    # 펜을 내린다\n",
        "  t.begin_fill()                                                                 # 채우기를 시작한다\n",
        "  t.color(\"green\")                                                               # 색을 초록으로 바꾼다\n",
        "  circle(50)                                                                     # 반지름이 50인 원을 그린다\n",
        "  t.end_fill()                                                                   # 채우기를 중단한다\n",
        "\n",
        "s = turtle.Screen()                                                              # 화면을 s로 선언한다\n",
        "s.onscreenclick(drawit)                                                          # 클릭할때 함수가 실행되도록 설정한다"
      ],
      "execution_count": null,
      "outputs": []
    },
    {
      "cell_type": "markdown",
      "metadata": {
        "id": "PCm-DhlY0Slb"
      },
      "source": [
        "# 5번"
      ]
    },
    {
      "cell_type": "code",
      "metadata": {
        "id": "iRseJ1RE0TqT"
      },
      "source": [
        "import turtle                                                                    # turtle 모듈을 불러온다\n",
        "import random                                                                    # random 모듈을 불러온다\n",
        "\n",
        "def tree(length):                                                                # 나무를 만드는 함수를 만든다\n",
        "  angle = (random.randint(-20,20))                                               # angle 변수를 설정한다\n",
        "  if length > 5:                                                                 # length 변수가 5보다 크다면\n",
        "    t.forward(length)                                                            # 앞으로 변수값만큼 이동한다\n",
        "    t.right(20 + angle)                                                          # 오른쪽으로 변수값만큼 회전한다\n",
        "    tree(length-15*(random.randint()+0.4))                                       # 랜덤한 값을 이용해 함수를 실행한다\n",
        "    t.left(40 + (angle*2))                                                       # 왼쪽으로 랜덤한 값만큼 회전한다\n",
        "    tree(length-15*(random.randint()+0.4))                                       # 랜덤한 값을 이용해 함수를 실행한다\n",
        "    t.right(20 + angle)                                                          # 왼쪽으로 랜덤한 값만큼 회전한다\n",
        "    t.backward(length)                                                           # 뒤로 변수값만큼 이동한다\n",
        "\n",
        "t = turtle.Turtle()                                                              # 모듈을 t로 선언한다\n",
        "t.left(90)                                                                       # 왼쪽으로 90도 회전한다\n",
        "\n",
        "t.color(\"green\")                                                                 # 색을 초록색으로 변경한다\n",
        "t.speed(1)                                                                       # 아이콘의 속도를 1로 설정한다\n",
        "tree(90)                                                                         # 90을 넣고 함수를 실행한다"
      ],
      "execution_count": null,
      "outputs": []
    }
  ]
}