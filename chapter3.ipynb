{
  "nbformat": 4,
  "nbformat_minor": 0,
  "metadata": {
    "colab": {
      "name": "chapter3.ipynb",
      "provenance": [],
      "authorship_tag": "ABX9TyPZKCph7CFfVGWOQ10BCawj",
      "include_colab_link": true
    },
    "kernelspec": {
      "name": "python3",
      "display_name": "Python 3"
    },
    "language_info": {
      "name": "python"
    }
  },
  "cells": [
    {
      "cell_type": "markdown",
      "metadata": {
        "id": "view-in-github",
        "colab_type": "text"
      },
      "source": [
        "<a href=\"https://colab.research.google.com/github/instone1031/114514/blob/main/chapter3.ipynb\" target=\"_parent\"><img src=\"https://colab.research.google.com/assets/colab-badge.svg\" alt=\"Open In Colab\"/></a>"
      ]
    },
    {
      "cell_type": "markdown",
      "metadata": {
        "id": "_wlaVyTjUPfC"
      },
      "source": [
        "# 연습문제\n",
        "\n",
        "\n",
        "\n"
      ]
    },
    {
      "cell_type": "markdown",
      "metadata": {
        "id": "F7HhphNlUPXF"
      },
      "source": [
        "# 1번\n",
        "\n"
      ]
    },
    {
      "cell_type": "code",
      "metadata": {
        "id": "ioomYeySUO3M"
      },
      "source": [
        "x = int(input(\"x: \"))                                                            # x값 변수를 받는다\n",
        "y = int(input(\"y: \"))                                                            # y값 변수를 받는다\n",
        "\n",
        "print(\"두수의 합: \", x+y)                                                        # 두수를 더한다\n",
        "print(\"두수의 차: \", x-y)                                                        # x에서 y를 뺀다\n",
        "print(\"두수의 곱: \", x*y)                                                        # 두수를 곱한다\n",
        "print(\"두수의 평균: \", (x+y)/2)                                                  # 두수의 평균을 낸다\n",
        "print(\"큰수: \", max(x, y))                                                       # 두수중 큰수를 출력한다\n",
        "print(\"작은수: \", min(x, y))                                                     # 두수중 작은수를 출력한다"
      ],
      "execution_count": null,
      "outputs": []
    },
    {
      "cell_type": "markdown",
      "metadata": {
        "id": "s-5uc38DWk5t"
      },
      "source": [
        "# 2번"
      ]
    },
    {
      "cell_type": "code",
      "metadata": {
        "id": "-PaLOUs6UOy5"
      },
      "source": [
        "r = float(input(\"r: \"))                                                          # 반지름 r값을 받는다\n",
        "h = float(input(\"h: \"))                                                          # 높이 h값을 받는다\n",
        "\n",
        "vol = 3.141592*r**2*h                                                            # 원기둥의 부피를 계산한다\n",
        "print(\"원기둥의 부피: \",vol)                                                     # 문자열과 계산값을 출력한다"
      ],
      "execution_count": null,
      "outputs": []
    },
    {
      "cell_type": "markdown",
      "metadata": {
        "id": "wnVlWjKMXYFu"
      },
      "source": [
        "# 3번"
      ]
    },
    {
      "cell_type": "code",
      "metadata": {
        "id": "BMSTGVrYUCEU"
      },
      "source": [
        "number = int(input(\"정수를 입력하시오: \"))                                       # 정수형 변수를 받는다\n",
        "\n",
        "sum = 0                                                                          # 처음 수를 0으로 설정한다\n",
        "sum = sum + number % 10                                                          # 변수를 10으로 나눈 나머지를 구한다\n",
        "number = number // 10                                                            # 변수를 10으로 나눈 몫을 구한다\n",
        "sum = sum + number % 10\n",
        "number = number // 10\n",
        "sum = sum + number % 10\n",
        "number = number // 10\n",
        "sum = sum + number % 10\n",
        "number = number // 10\n",
        "print(\"자리수의 합: \", str(sum))                                                 # 문자열과 정수형을 문자형으로 바꾼값을 출력한다"
      ],
      "execution_count": null,
      "outputs": []
    },
    {
      "cell_type": "markdown",
      "metadata": {
        "id": "1_I-AZS0X7Wg"
      },
      "source": [
        "# 4번"
      ]
    },
    {
      "cell_type": "code",
      "metadata": {
        "id": "Ya3ZIezdUB4I"
      },
      "source": [
        "x1 =  int(input(\"x1: \"))                                                         # x1변수를 받는다\n",
        "y1 =  int(input(\"y1: \"))                                                         # y1변수를 받는다\n",
        "x2 =  int(input(\"x2: \"))                                                         # x2변수를 받는다\n",
        "y2 =  int(input(\"y2: \"))                                                         # y2변수를 받는다\n",
        "dist = ((x2 - x1)**2 + (y2 - y1)**2)**0.5                                        # 두점 사이의 거리를 계산한다\n",
        "print(\"두점 사이의 거리=\", dist)                                                 # 문자열과 계산값을 출력한다"
      ],
      "execution_count": null,
      "outputs": []
    },
    {
      "cell_type": "markdown",
      "metadata": {
        "id": "HKdNIdRDaKtr"
      },
      "source": [
        "# 5번"
      ]
    },
    {
      "cell_type": "code",
      "metadata": {
        "id": "Jd8sfoanUBZH"
      },
      "source": [
        "import math                                                                      # math 모듈을 불러온다\n",
        "x1 = int(input(\"x1: \"))                                                          # x1변수를 받는다\n",
        "y1 = int(input(\"y1: \"))                                                          # y1변수를 받는다\n",
        "x2 = int(input(\"x2: \"))                                                          # x2변수를 받는다\n",
        "y2 = int(input(\"y2: \"))                                                          # y2변수를 받는다\n",
        "dist = math.sqrt((x2 - x1) + (y2 - y1)**2)                                       # sqrt를 이용해 두점 사이의 거리를 계산한다\n",
        "print(\"두점 사이의 거리=\", dist)                                                 # 문자열과 계산값을 출력한다\n",
        "\n",
        "import turtle                                                                    # turtle 모듈을 불러온다\n",
        "t = turtle.Turtle()                                                              # 모듈을 t로 선언한다\n",
        "t.shape(\"turtle\")                                                                # 아이콘을 거북이 모양으로 변경한다\n",
        "\n",
        "t.left(45)                                                                       # 왼쪽으로 45도 회전한다\n",
        "t.forward(141)                                                                   # 앞으로 141픽셀 이동한다\n",
        "\n",
        "t.setheading(0)                                                                  # 아이콘의 방향을 0도로 변경한다\n",
        "t.goto(0, 0)                                                                     # (0, 0)좌표로 이동한다\n",
        "t.forward(100)                                                                   # 앞으로 100픽셀 이동한다\n",
        "t.left(90)                                                                       # 왼쪽으로 90도 회전한다\n",
        "t.forward(100)\n",
        "t._screen.exitonclick()                                                          # 눌러서 종료할수 있도록 설정한다"
      ],
      "execution_count": null,
      "outputs": []
    },
    {
      "cell_type": "markdown",
      "metadata": {
        "id": "QZqLfSu4c-63"
      },
      "source": [
        "# 6번"
      ]
    },
    {
      "cell_type": "code",
      "metadata": {
        "id": "bdllhrBFUBPN"
      },
      "source": [
        "import turtle                                                                    # turtle 모듈을 불러온다\n",
        "t = turtle.Turtle()                                                              # 모듈을 t로 선언한다\n",
        "t.shape(\"turtle\")                                                                # 아이콘을 거북이 모양으로 변경한다\n",
        "\n",
        "x1 = int(input(\"x1: \"))                                                          # x1변수를 받는다\n",
        "y1 = int(input(\"y1: \"))                                                          # y1변수를 받는다\n",
        "x2 = int(input(\"x2: \"))                                                          # x2변수를 받는다\n",
        "y2 = int(input(\"y2: \"))                                                          # y2변수를 받는다\n",
        "dist = ((x1 - x2)**2 + (y1 - y2)**2)**0.5                                        # 두점 사이의 거리를 계산한다\n",
        "\n",
        "t.up()                                                                           # 아이콘을 올린다\n",
        "t.goto(x1, y1)                                                                   # (x1, y1)좌표로 이동한다\n",
        "t.down()                                                                         # 아이콘을 내린다\n",
        "t.(x2, y2)                                                                       # (x2, y2)좌표로 이동한다\n",
        "\n",
        "t.write(\"점의 길이=\" + str(dist))                                                # 아이콘 주위에 문자열과 정수형을 문자형으로 바꾼값을 출력한다\n",
        "t._screen.exitonclick()                                                          # 눌러서 종료할수 있도록 설정한다"
      ],
      "execution_count": null,
      "outputs": []
    },
    {
      "cell_type": "markdown",
      "metadata": {
        "id": "_n6XR1RLfX6J"
      },
      "source": [
        "# 7번"
      ]
    },
    {
      "cell_type": "code",
      "metadata": {
        "colab": {
          "base_uri": "https://localhost:8080/"
        },
        "id": "E1YsO8awUA-o",
        "outputId": "47e36e8f-e44f-495a-e43f-487b312aaa13"
      },
      "source": [
        "import time                                                                      # time 모듈을 불러온다\n",
        "\n",
        "fseconds = time.time()                                                           # 모듈을 fseconds로 선언한다\n",
        "total_sec = int(fseconds)                                                        # 문자열을 정수형으로 바꾼다\n",
        "total_min = total_sec // 60                                                      # 전체 초를 60으로 나눈 몫을 구한다\n",
        "minute = total_min % 60                                                          # 전체 분을 60으로 나눈 나머지를 구한다\n",
        "total_hour = total_min // 60                                                     # 전체 분을 60으로 나눈 몫으로 전체 시를 구한다\n",
        "hour = total_hour % 24                                                           # 전체 시를 24로 나눈 나머지를 구한다\n",
        "\n",
        "print(\"현재 시간(영국 그리니치 시각): \" + str(hour) + \"시\" + str(minute) + \"분\") # 문자열과 정수형을 문자형으로 변환한 값을 출력한다"
      ],
      "execution_count": 3,
      "outputs": [
        {
          "output_type": "stream",
          "name": "stdout",
          "text": [
            "현재 시간(영국 그리니치 시각): 10시51분\n"
          ]
        }
      ]
    },
    {
      "cell_type": "markdown",
      "metadata": {
        "id": "wYHvH2iUhMFw"
      },
      "source": [
        "# 8번"
      ]
    },
    {
      "cell_type": "code",
      "metadata": {
        "id": "NF4H0lreT_2X"
      },
      "source": [
        "mass = float(input(\"물체의 무게를 입력하시오(킬로그램): \"))                      # 질량값 변수를 받는다\n",
        "velocity = float(input(\"물체의 속도를 입력하시오(미터/초): \"))                   # 속도값 변수를 받는다\n",
        "                 \n",
        "\n",
        "energy = 0.5 * mass * velocity **2                                               # 운동에너지를 계산한다\n",
        "print(\"물체는 \" + str(energy) + \"(줄)의 에너지를 가지고 있다.\")                  # 문자열과 정수형을 문자형으로 바꾼값을 출력한다"
      ],
      "execution_count": null,
      "outputs": []
    },
    {
      "cell_type": "markdown",
      "metadata": {
        "id": "9Ci6E7VqT9e_"
      },
      "source": [
        "# 도전문제"
      ]
    },
    {
      "cell_type": "markdown",
      "metadata": {
        "id": "sntgsbQ0Ai7G"
      },
      "source": [
        "# 1번\n",
        "\n"
      ]
    },
    {
      "cell_type": "code",
      "metadata": {
        "colab": {
          "base_uri": "https://localhost:8080/"
        },
        "id": "kKxXVfrLAgdH",
        "outputId": "1fffcd08-7cb7-4503-b6da-40802a3937cc"
      },
      "source": [
        "total = 100000                                                                   # 전체를 100000로 설정한다\n",
        "americano_price = 2000                                                           # 아메리카노의 가격을 설정한다\n",
        "cafelatte_price = 3000                                                           # 카페라떼의 가격을 설정한다\n",
        "capucino_price = 3500                                                            # 카푸치노의 가격을 설정한다\n",
        "\n",
        "americanos = int(input(\"아메리카노 판매 개수: \"))                                # 아메리카노의 판매 개수를 입력받는다\n",
        "cafelattes = int(input(\"카페라떼 판매 개수\"))                                    # 카페라떼의 판매 개수를 입력받는다\n",
        "capucinos = int(input(\"카푸치노 판매 개수\"))                                     # 카푸치노의 판매 개수를 입력받는다\n",
        "\n",
        "sales = americanos * americano_price                                             # 아메리카노의 개수와 가격을 곱해 매출을 구한다\n",
        "sales = sales + cafelattes * cafelatte_price                                     # 카페라떼의 개수와 가격을 곱해 매출을 구한다\n",
        "sales = sales + capucinos * capucino_price                                       # 카푸치노의 개수와 가격을 곱해 매출을 구한다\n",
        "print(\"총 매출은\", sales, \"입니다.\")                                             # 문자열과 계산값을 출력한다\n",
        "\n",
        "if(total < sales):print(\"흑자입니다.\")                                           # 매출이 전체보다 클경우 출력\n",
        "else:print(\"적자입니다.\")                                                        # 매출이 전체보다 작을경우 출력"
      ],
      "execution_count": null,
      "outputs": [
        {
          "output_type": "stream",
          "name": "stdout",
          "text": [
            "아메리카노 판매 개수: 1\n",
            "카페라떼 판매 개수1\n",
            "카푸치노 판매 개수1\n",
            "총 매출은 8500 입니다.\n",
            "적자입니다.\n"
          ]
        }
      ]
    },
    {
      "cell_type": "markdown",
      "metadata": {
        "id": "0crsPRpZCUPl"
      },
      "source": [
        "# 2번"
      ]
    },
    {
      "cell_type": "code",
      "metadata": {
        "colab": {
          "base_uri": "https://localhost:8080/"
        },
        "id": "RlpIHtnCCDM1",
        "outputId": "551be1c5-7220-446e-b89a-2a80fd704360"
      },
      "source": [
        "ctemp = int(input(\"섭씨온도: \"))                                                 # 섭씨온도 변수를 입력받는다\n",
        "ftemp = 9/5 * ctemp + 32                                                         # 화씨온도를 계산한다\n",
        "print(\"화씨온도: \", ftemp)                                                       # 문자열과 계산값을 출력한다"
      ],
      "execution_count": null,
      "outputs": [
        {
          "output_type": "stream",
          "name": "stdout",
          "text": [
            "섭씨온도: 36\n",
            "화씨온도:  96.8\n"
          ]
        }
      ]
    },
    {
      "cell_type": "markdown",
      "metadata": {
        "id": "_AGHu8WVC1IV"
      },
      "source": [
        "# 3번"
      ]
    },
    {
      "cell_type": "code",
      "metadata": {
        "colab": {
          "base_uri": "https://localhost:8080/"
        },
        "id": "lxXm_jaeC2hR",
        "outputId": "ba25981b-75c5-4eb1-956e-df279c3faa76"
      },
      "source": [
        "money = int(input(\"투입한 돈: \"))                                                # 투입 변수를 입력받는다\n",
        "price = int(input(\"물건 값: \"))                                                  # 값의 변수를 입력받는다\n",
        "\n",
        "change = money - price                                                           # 거스름돈을 계산한다\n",
        "print(\"거스름돈: \", change)                                                      # 문자열과 계산값을 출력한다\n",
        "coin500s = change // 500                                                         # 거스름돈을 500으로 나눈 몫을 구한다\n",
        "change = change % 500                                                            # 거스름돈을 500으로 나눈 나머지를 구한다\n",
        "coin100s = change // 100                                                         # 거스름돈을 100으로 나눈 몫을 구한다\n",
        "change = change % 100                                                            # 거스름돈을 100으로 나눈 나머지를 구한다\n",
        "coin50s = change // 50                                                           # 거스름돈을 50으로 나눈 몫을 구한다\n",
        "change = change % 50                                                             # 거스름돈을 50으로 나눈 나머지를 구한다\n",
        "coin10s = change // 10                                                           # 거스름돈을 10으로 나눈 몫을 구한다\n",
        "change = change % 10                                                             # 거스름돈을 10으로 나눈 나머지를 구한다\n",
        "\n",
        "print(\"500원 동전의 개수: \", coin500s)                                           # 문자열과 계산값을 출력한다\n",
        "print(\"100원 동전의 개수: \", coin100s)\n",
        "print(\"50원 동전의 개수: \", coin50s)\n",
        "print(\"10원 동전의 개수: \", coin10s)"
      ],
      "execution_count": null,
      "outputs": [
        {
          "output_type": "stream",
          "name": "stdout",
          "text": [
            "투입한 돈: 10000\n",
            "물건 값: 1500\n",
            "거스름돈:  8500\n",
            "500원 동전의 개수:  17\n",
            "100원 동전의 개수:  0\n",
            "50원 동전의 개수:  0\n",
            "10원 동전의 개수:  0\n"
          ]
        }
      ]
    },
    {
      "cell_type": "markdown",
      "metadata": {
        "id": "OHJg8oaFD7IC"
      },
      "source": [
        "# 4번"
      ]
    },
    {
      "cell_type": "code",
      "metadata": {
        "id": "b4qzEQniD8pw"
      },
      "source": [
        "money = int(input(\"투입한 돈: \"))                                                # 변수 money를 선언하고 정수형으로 받는다.\n",
        "price = int(input(\"물건 값: \"))                                                  # 변수 price를 선언하고 정수형으로 받는다.\n",
        "\n",
        "change = money - price                                                           # 거스름돈을 계산한다.\n",
        "coin500s = change // 500                                                         # 500으로 나누어서 몫이 500원짜리의 개수이다.\n",
        "change = change % 500                                                            # 500으로 나눈 나머지를 계산한다.\n",
        "coin100s = change // 100                                                         # 100으로 나누어서 몫이 100원짜리의 개수이다.\n",
        "\n",
        "print(\"500원 동전의 개수: \", coin500s)                                           # 거슬러줄 500원짜리의 개수를 출력한다.\n",
        "print(\"100원 동전의 개수: \", coin100s)                                           # 거슬러줄 100원짜리의 개수를 출력한다."
      ],
      "execution_count": null,
      "outputs": []
    }
  ]
}