{
  "nbformat": 4,
  "nbformat_minor": 0,
  "metadata": {
    "colab": {
      "name": "chapter5.ipynb",
      "provenance": [],
      "authorship_tag": "ABX9TyPCUaQKdg2M9mMVIraX/EDd",
      "include_colab_link": true
    },
    "kernelspec": {
      "name": "python3",
      "display_name": "Python 3"
    },
    "language_info": {
      "name": "python"
    }
  },
  "cells": [
    {
      "cell_type": "markdown",
      "metadata": {
        "id": "view-in-github",
        "colab_type": "text"
      },
      "source": [
        "<a href=\"https://colab.research.google.com/github/instone1031/114514/blob/main/chapter5.ipynb\" target=\"_parent\"><img src=\"https://colab.research.google.com/assets/colab-badge.svg\" alt=\"Open In Colab\"/></a>"
      ]
    },
    {
      "cell_type": "markdown",
      "metadata": {
        "id": "F3MPdIRWdtIq"
      },
      "source": [
        "# 연습문제"
      ]
    },
    {
      "cell_type": "markdown",
      "metadata": {
        "id": "A874aemlzUQM"
      },
      "source": [
        "# 1번"
      ]
    },
    {
      "cell_type": "code",
      "metadata": {
        "colab": {
          "base_uri": "https://localhost:8080/"
        },
        "id": "5nfUXh3CzRV7",
        "outputId": "1421c3d1-9475-4cef-bea5-6bba092972d9"
      },
      "source": [
        "age = 20                                                                         # age 변수를 설정한다\n",
        "if age < 20:                                                                     # 변수가 20보다 작을때\n",
        "  print('20살 미만')                                                             # 만족하면 문자열을 출력한다\n",
        "else:                                                                            # 변수가 조건을 만족하지 못하면\n",
        "  print('20살 이상')                                                             # 만족하지 못했을때 문자열을 출력한다"
      ],
      "execution_count": null,
      "outputs": [
        {
          "output_type": "stream",
          "name": "stdout",
          "text": [
            "20살 이상\n"
          ]
        }
      ]
    },
    {
      "cell_type": "markdown",
      "metadata": {
        "id": "vOax-K8tznLk"
      },
      "source": [
        "# 2번"
      ]
    },
    {
      "cell_type": "code",
      "metadata": {
        "id": "QYJ-aj3zzmjn"
      },
      "source": [
        "age = 20                                                                         # age 변수를 설정한다\n",
        "if age >= 30 and age <= 50:                                                      # 변수가 30 이상 50 이하일때\n",
        "  print('30살 이상이고 50살 이하')                                               # 만족할때 문자열을 출력한다"
      ],
      "execution_count": null,
      "outputs": []
    },
    {
      "cell_type": "markdown",
      "metadata": {
        "id": "EVyFYE1Vz2er"
      },
      "source": [
        "# 3번"
      ]
    },
    {
      "cell_type": "code",
      "metadata": {
        "colab": {
          "base_uri": "https://localhost:8080/"
        },
        "id": "Dr6F2Oruz12u",
        "outputId": "21f4ceae-04a9-4056-c35c-f69a9405c1ef"
      },
      "source": [
        "temp = int(input(\"현재 온도를 입력하시오: \"))                                    # temp 변수를 입력받는다\n",
        "\n",
        "if temp >= 25:                                                                   # 변수가 25 이상일때\n",
        "  print(\"반바지를 입으세요\")                                                     # 만족할때 문자열을 출력한다\n",
        "else:                                                                            # 변수가 조건을 만족하지 못할때\n",
        "  print(\"긴바지를 입으세요\")                                                     # 만족하지 못하면 문자열을 출력한다"
      ],
      "execution_count": null,
      "outputs": [
        {
          "output_type": "stream",
          "name": "stdout",
          "text": [
            "현재 온도를 입력하시오: 22\n",
            "긴바지를 입으세요\n"
          ]
        }
      ]
    },
    {
      "cell_type": "markdown",
      "metadata": {
        "id": "Wu73Qyjo0KdS"
      },
      "source": [
        "# 4번"
      ]
    },
    {
      "cell_type": "code",
      "metadata": {
        "colab": {
          "base_uri": "https://localhost:8080/"
        },
        "id": "TFF9BWDw0I5m",
        "outputId": "f4f40e27-821b-44ce-c260-8c3e3b39df43"
      },
      "source": [
        "score = int(input(\"성적을 입력하시오: \"))                                        # score 변수를 입력받는다\n",
        "\n",
        "if score >= 90:                                                                  # 변수가 90이상일때\n",
        "  print(\"A학점입니다.\")                                                          # 만족하면 문자열을 출력한다\n",
        "elif score >= 80:                                                                # 변수가 80이상일때\n",
        "  print(\"B학점입니다.\")\n",
        "elif score >= 70:                                                                # 변수가 70이상일때\n",
        "  print(\"C학점입니다.\")\n",
        "elif score >= 60:                                                                # 변수가 60이상일때\n",
        "  print(\"D학점입니다.\")\n",
        "else:                                                                            # 변수가 아무런 조건을 만족하지 못한다면\n",
        "  print(\"F학점입니다.\")                                                          # 만족하지 못할때 문자열을 출력한다"
      ],
      "execution_count": null,
      "outputs": [
        {
          "output_type": "stream",
          "name": "stdout",
          "text": [
            "성적을 입력하시오: 69\n",
            "D학점입니다.\n"
          ]
        }
      ]
    },
    {
      "cell_type": "markdown",
      "metadata": {
        "id": "EeZCmeO70y4z"
      },
      "source": [
        "# 5번"
      ]
    },
    {
      "cell_type": "code",
      "metadata": {
        "colab": {
          "base_uri": "https://localhost:8080/"
        },
        "id": "b4HM8ST60vPh",
        "outputId": "7df1a435-013a-4153-d2f1-d7dd1620b583"
      },
      "source": [
        "import random                                                                    # random 모듈을 불러온다\n",
        "x = random.randint(1, 100)                                                       # x 변수의 좌표를 설정한다 \n",
        "y = random.randint(1, 100)                                                       # y 변수의 좌표를 설정한다\n",
        "\n",
        "ans = int(input(str(x)+\"-\"+str(y)+\"=\"))                                          # ans 변수를 입력받는다\n",
        "\n",
        "if ans == x - y:                                                                 # ans 변수가 조건을 만족할때\n",
        "  print(\"맞았습니다.\")                                                           # 만족하면 문자열을 출력한다\n",
        "else:                                                                            # 변수가 조건을 만족하지 못한다면\n",
        "  print(\"틀렸습니다.\")                                                           # 만족하지 못할때 문자열을 출력한다"
      ],
      "execution_count": null,
      "outputs": [
        {
          "output_type": "stream",
          "name": "stdout",
          "text": [
            "13-47=-34\n",
            "맞았습니다.\n"
          ]
        }
      ]
    },
    {
      "cell_type": "markdown",
      "metadata": {
        "id": "kSUmZlMW1Wwb"
      },
      "source": [
        "# 6번"
      ]
    },
    {
      "cell_type": "code",
      "metadata": {
        "colab": {
          "base_uri": "https://localhost:8080/"
        },
        "id": "cL03D4NJ1TQY",
        "outputId": "24d14770-cea3-4f2b-e8ec-a4435bd10b3b"
      },
      "source": [
        "n = int(input(\"정수를 입력하시오: \"))                                            # n 변수를 입력받는다\n",
        "\n",
        "if n%2==0 and n%3==0:                                                            # 변수가 조건을 만족할때\n",
        "  print(\"2와 3으로 나누어 떨어집니다.\")                                          # 만족하면 문자열을 출력한다\n",
        "else:                                                                            # 변수가 조건을 만족하지 못한다면\n",
        "  print(\"2와 3으로 나누어 떨어지지 않습니다.\")                                   # 만족하지 못할때 문자열을 출력한다"
      ],
      "execution_count": null,
      "outputs": [
        {
          "output_type": "stream",
          "name": "stdout",
          "text": [
            "정수를 입력하시오: 6\n",
            "2와 3으로 나누어 떨어집니다.\n"
          ]
        }
      ]
    },
    {
      "cell_type": "markdown",
      "metadata": {
        "id": "Q6NMhoVt4QjD"
      },
      "source": [
        "# 7번"
      ]
    },
    {
      "cell_type": "code",
      "metadata": {
        "colab": {
          "base_uri": "https://localhost:8080/"
        },
        "id": "U7mFYVpZ17Gu",
        "outputId": "385b53f6-ed8b-4c81-a629-fe96ca08aca2"
      },
      "source": [
        "import random                                                                    # random 모듈을 불러온다\n",
        "\n",
        "solution = random.randint(0, 99)                                                 # solution 변수의 좌표를 설정한다\n",
        "\n",
        "user = int(input(\"복권번호를 입력하시오(0에서 99사이): \"))                       # user 변수를 입력받는다\n",
        "\n",
        "digit1 = solution // 10                                                          # digit1 변수를 계산한다\n",
        "digit2 = solution % 10                                                           # digit2 변수를 계산한다\n",
        "\n",
        "u_digit1 = user // 10                                                            # u_digit1 변수를 계산한다\n",
        "u_digit2 = user % 10                                                             # u_digit2 변수를 계산한다\n",
        "\n",
        "print(\"당첨번호는\", solution, \"입니다.\")                                         # 문자열과 변수값을 출력한다\n",
        "\n",
        "if (digit1 == u_digit1 and digit2 == u_digit2):                                  # 변수가 조건을 만족할때\n",
        "  print(\"상금은 100만원입니다.\")                                                 # 만족할때 문자열을 출력한다\n",
        "elif(digit1 == u_digit1                                                         \n",
        "     or digit1 == u_digit2\n",
        "     or digit2 == u_digit1\n",
        "     or digit2 == u_digit2):\n",
        "  print(\"상금은 50만원입니다.\")\n",
        "else:                                                                            # 변수가 조건을 만족하지 못한다면\n",
        "  print(\"상금은 없습니다.\")                                                      # 만족하지 못할때 문자열을 출력한다"
      ],
      "execution_count": null,
      "outputs": [
        {
          "output_type": "stream",
          "name": "stdout",
          "text": [
            "복권번호를 입력하시오(0에서 99사이): 69\n",
            "당첨번호는 7 입니다.\n",
            "상금은 없습니다.\n"
          ]
        }
      ]
    },
    {
      "cell_type": "markdown",
      "metadata": {
        "id": "ydSsE70n4V4q"
      },
      "source": [
        "# 8번"
      ]
    },
    {
      "cell_type": "code",
      "metadata": {
        "id": "oiViu49i39EX"
      },
      "source": [
        "import turtle                                                                    # turtle 모듈을 불러온다\n",
        "t = turtle.Turtle()                                                              # 모듈을 t로 선언한다\n",
        "t.shape(\"turtle\")                                                                # 아이콘을 거북이 모양으로 변경한다\n",
        "\n",
        "x1 = int(input(\"큰 원의 중심좌표 x1: \"))                                         # 변수를 입력받는다\n",
        "y1 = int(input(\"큰 원의 중심좌표 y1: \"))\n",
        "r1 = int(input(\"큰 원의 반지름: \"))\n",
        "x2 = int(input(\"작은 원의 중심좌표 x2: \"))\n",
        "y2 = int(input(\"작은 원의 중심좌표 y2: \"))\n",
        "r2 = int(input(\"작은 원의 반지름: \"))\n",
        "\n",
        "t.penup()                                                                        # 펜을 올린다\n",
        "t.goto(x1, y1)                                                                   # (x1, y1)좌표로 이동한다\n",
        "t.pendown()                                                                      # 펜을 내린다\n",
        "t.circle(r1)                                                                     # 반지름이 r1인 원을 그린다\n",
        "\n",
        "t.penup()\n",
        "t.goto(x2, y2)                                                                   # (x2, y2)좌표로 이동한다\n",
        "t.pendown()\n",
        "t.circle(r2)                                                                     # 반지름이 r2인 원을 그린다\n",
        "\n",
        "dist = ((x1 - x2) * (x1 - x2) + (y1 - y2) * (y1 - y2)) ** 0.5                    # dist 변수를 계산한다\n",
        "if dist <= r1-r2:                                                                # 변수가 조건을 만족하면\n",
        "  turtle.write(\"두번째 원이 첫번째 원의 내부에 있습니다.\")                       # 문자열을 출력한다\n",
        "elif dist <= r1+r2:\n",
        "  turtle.write(\"두번째 원이 첫번째 원과 겹칩니다.\")\n",
        "else:                                                                            # 변수가 조건을 만족하지 못한다면\n",
        "  turtle.write(\"두번째 원이 첫번째 원과 겹치지 않습니다.\")                       # 문자열을 출력한다\n",
        "t._screen.exitonclick()                                                          # 눌러서 종료할수 있도록 설정한다"
      ],
      "execution_count": null,
      "outputs": []
    },
    {
      "cell_type": "markdown",
      "metadata": {
        "id": "l9ghWXGvtIFP"
      },
      "source": [
        "# 도전문제"
      ]
    },
    {
      "cell_type": "markdown",
      "metadata": {
        "id": "kvKcv8yHtJXv"
      },
      "source": [
        "# 1번"
      ]
    },
    {
      "cell_type": "code",
      "metadata": {
        "id": "u1dfB-YxtK73"
      },
      "source": [
        "age = int(input(\"나이를 입력하시오: \"))                                          # age 변수를 입력받는다\n",
        "if age >= 15:                                                                    # 변수가 조건을 만족한다면\n",
        "  print(\"이 영화를 보실 수 있습니다. 영화의 가격은 10000원입니다.\")              # 문자열을 출력한다\n",
        "else:                                                                            # 변수가 조건을 만족하지 못한다면\n",
        "  print(\"이 영화를 보실 수 없습니다. 다른 영화를 보시겠어요?\")                   # 문자열을 출력한다"
      ],
      "execution_count": null,
      "outputs": []
    },
    {
      "cell_type": "markdown",
      "metadata": {
        "id": "8MIFdFOIt1O5"
      },
      "source": [
        "# 2-1번"
      ]
    },
    {
      "cell_type": "code",
      "metadata": {
        "id": "TpoMRSnJt2lI"
      },
      "source": [
        "import turtle                                                                    # turtle 모듈을 불러온다\n",
        "\n",
        "t = turtle.Turtle()                                                              # 모듈을 t로 선언한다\n",
        "\n",
        "t.width(3)                                                                       # 선의 두께를 3픽셀로 변경한다\n",
        "\n",
        "t.shape(\"turtle\")                                                                # 아이콘을 거북이 모양으로 변경한다\n",
        "\n",
        "t.shapesize(3, 3)                                                                # 아이콘을 3배 확대한다\n",
        "\n",
        "# 무한루프\n",
        "while answer:                                                                    \n",
        "  command = input(\"명령을 입력하시오: \")                                         # command 변수를 입력받는다\n",
        "  if command == \"1\" or command == \"left\":                                        # 1 또는 left를 입력한다면\n",
        "    t.left(90)                                                                   # 왼쪽으로 90도 회전한다\n",
        "    t.forward(100)                                                               # 앞으로 100픽셀 이동한다\n",
        "  if command == \"r\" or command == \"right\":                                       # r 또는 right를 입력한다면\n",
        "    t.right(90)                                                                  # 오른쪽으로 90도 회전한다\n",
        "    t.forward(100)                                                               # 앞으로 100픽셀 이동한다"
      ],
      "execution_count": null,
      "outputs": []
    },
    {
      "cell_type": "markdown",
      "metadata": {
        "id": "5O5XVURuxG-G"
      },
      "source": [
        "# 2-2번"
      ]
    },
    {
      "cell_type": "code",
      "metadata": {
        "id": "XjSt9JvMxIcN"
      },
      "source": [
        "import turtle                                                                    # turtle 모듈을 불러온다\n",
        "\n",
        "t = turtle.Turtle()                                                              # 모듈을 t로 선언한다\n",
        "\n",
        "t.width(3)                                                                       # 선의 두께를 3픽셀로 변경한다\n",
        "\n",
        "t.shape(\"turtle\")                                                                # 아이콘을 거북이 모양으로 변경한다\n",
        "\n",
        "t.shapesize(3, 3)                                                                # 아이콘을 3배 확대한다\n",
        "\n",
        "flag = True\n",
        "\n",
        "# 루프 제어변수인 flag를 둔다.\n",
        "while flag:\n",
        "  command = input(\"명령을 입력하시오: \")                                         # command 변수를 입력받는다\n",
        "  if command == \"l\" or command == \"left\":                                        # 변수가 조건을 만족한다면\n",
        "    t.left(90)                                                                   # 왼쪽으로 90도 회전한다\n",
        "    t.forward(100)                                                               # 앞으로 100픽셀 이동한다\n",
        "  if command == \"r\" or command == \"right\":\n",
        "    t.right(90)                                                                  # 오른쪽으로 90도 회전한다\n",
        "    t.forward(100)\n",
        "  if command == \"q\" or command == \"quit\":\n",
        "    flag = False                                                                 # flag를 끈다"
      ],
      "execution_count": null,
      "outputs": []
    },
    {
      "cell_type": "markdown",
      "metadata": {
        "id": "xws8dqKgzaCN"
      },
      "source": [
        "# 3번"
      ]
    },
    {
      "cell_type": "code",
      "metadata": {
        "colab": {
          "base_uri": "https://localhost:8080/"
        },
        "id": "Ft04uMwyzc9N",
        "outputId": "5caf5c31-cf08-4973-dffd-18393a642eb4"
      },
      "source": [
        "import random                                                                    # random 모듈을 불러온다\n",
        "\n",
        "print(\"주사위 던지기 게임을 시작합니다.\")                                        # 문자열을 출력한다\n",
        "dice = random.randrange(6)+1                                                     # dice 변수를 계산한다\n",
        "print(\"주사위 눈은 \"+str(dice)+\"입니다.\")                                        # 문자열과 변수값을 출력한다\n",
        "print(\"게임이 종료되었습니다.\")                                                  # 문자열을 출력한다"
      ],
      "execution_count": 1,
      "outputs": [
        {
          "output_type": "stream",
          "name": "stdout",
          "text": [
            "주사위 던지기 게임을 시작합니다.\n"
          ]
        }
      ]
    },
    {
      "cell_type": "markdown",
      "metadata": {
        "id": "Rg9tDqmc0HOl"
      },
      "source": [
        "# 4번"
      ]
    },
    {
      "cell_type": "code",
      "metadata": {
        "id": "sH1IIgBKzlQF"
      },
      "source": [
        "import random                                                                    # random 모듈을 불러온다\n",
        "time = random.radint(1,24)                                                       # time 변수를 설정한다\n",
        "print(\"좋은 아침입니다. 지금 시각은 \" + str(time) + \"시 입니다.\")                # 문자열과 변수값을 출력한다\n",
        "sunny = random.choice([True,False])                                              # sunny 변수를 선언한다\n",
        "if sunny:                                                                        # 변수가 조건을 만족한다면\n",
        "  print(\"현재 날씨가 화창합니다\")                                                # 문자열을 출력한다 \n",
        "else:                                                                            # 변수가 조건을 만족하지 못한다면\n",
        "  print(\"현재 날씨가 화창하지 않습니다.\")                                        # 문자열을 출력한다\n",
        "\n",
        "if time >= 6 and <9 and True:                                       \n",
        "  print(\"종달새가 노래를 한다.\")\n",
        "\n",
        "elif time >= 14 and <16 True:\n",
        "  print(\"종달새가 노래를 한다.\")\n",
        "else:\n",
        "  print(\"종달새가 노래를 하지 않는다.\")"
      ],
      "execution_count": null,
      "outputs": []
    },
    {
      "cell_type": "markdown",
      "metadata": {
        "id": "tBEBWF3m2pAS"
      },
      "source": [
        "# 5번"
      ]
    },
    {
      "cell_type": "code",
      "metadata": {
        "id": "lU1HfAVO2qK5"
      },
      "source": [
        "id = \"ilovepython\"                                                               # id 변수를 설정한다\n",
        "pw = \"123456\"                                                                    # pw 변수를 설정한다\n",
        "s = input(\"아이디를 입력하시오: \")                                               # s 변수를 입력받는다\n",
        "if s == id:                                                                      # 변수가 조건을 만족한다면\n",
        "  p = input(\"패스워드를 입력하시오: \")                                           # p 변수를 입력받는다\n",
        "  if p == pw:                                                                    # p 변수가 조건을 만족한다면\n",
        "    print(\"환영합니다.\")                                                         # 문자열을 출력한다\n",
        "  else:                                                                          # 변수가 조건을 만족하지 못한다면\n",
        "    print(\"비밀번호가 잘못되었습니다.\")\n",
        "\n",
        "else:                                                                            # 변수가 조건을 만족하지 못한다면\n",
        "  print(\"아이디를 찾을 수 없습니다.\")                                            # 문자열을 출력한다"
      ],
      "execution_count": null,
      "outputs": []
    },
    {
      "cell_type": "markdown",
      "metadata": {
        "id": "P6yZWbae3_xh"
      },
      "source": [
        "# 6번"
      ]
    },
    {
      "cell_type": "code",
      "metadata": {
        "id": "c5d2Hpvc4CcR"
      },
      "source": [
        "import random                                                                    # random 모듈을 불러온다\n",
        "\n",
        "options = [\"왼쪽 상단\",\"왼쪽 하단\",\"중앙\",\"오른쪽 상단\",\"오른쪽 하단\"]           # options 변수를 설정한다\n",
        "computer_choice = random.choice(options)                                         # computer_choice를 선언한다\n",
        "user_choice = input(\"어디를 수비하시겠어요?(왼쪽 상단, 왼쪽 하단, 중앙, 오른쪽 상단, 오른쪽 하단)\") # user_choice를 선언한다\n",
        "if computer_choice == user_choice:                                               # 변수가 조건을 만족한다면\n",
        "  print(\"수비에 성공하셨습니다.\")                                                # 문자열을 출력한다\n",
        "else:                                                                            # 변수가 조건을 만족하지 못한다면\n",
        "  print(\"페널티 킥이 성공하였습니다.\")"
      ],
      "execution_count": null,
      "outputs": []
    },
    {
      "cell_type": "markdown",
      "metadata": {
        "id": "qSJM-gtk5sip"
      },
      "source": [
        "# 7번"
      ]
    },
    {
      "cell_type": "code",
      "metadata": {
        "id": "EG06VrZn5vqY"
      },
      "source": [
        "import turtle                                                                    # turtle 모듈을 불러온다\n",
        "t = turtle.Turtle()                                                              # 모듈을 t로 선언한다\n",
        "t.shape(\"turtle\")                                                                # 아이콘을 거북이 모양으로 변경한다\n",
        "\n",
        "s = turtle.textinput(\"\",\"도형을 입력하시오: \")                                   # s 변수를 입력받는다\n",
        "if s == \"사각형\":                                                                # 변수가 조건을 만족한다면\n",
        "  s = turtle.textinput(\"\",\"가로: \")                                              # s 변수를 입력받는다\n",
        "  w = int(s)\n",
        "  s = turtle.textinput(\"\",\"세로: \")\n",
        "  h = int(s)\n",
        "  t.forward(w)                                                                   # 앞으로 w만큼 이동한다\n",
        "  t.left(90)                                                                     # 왼쪽으로 90도 회전한다\n",
        "  t.forward(h)                                                                   # 앞으로 h만큼 이동한다\n",
        "  t.left(90)\n",
        "  t.forward(w)\n",
        "  t.left(90)\n",
        "  t.forward(h)\n",
        "\n",
        "elif s == \"삼각형\":                                                              # 변수가 조건을 만족한다면\n",
        "  s == turtle.textinput(\"\",\"변: \")                                               # s 변수를 입력받는다\n",
        "  l = int(s)\n",
        "  t.forward(l)                                                                   # 앞으로 l만큼 이동한다\n",
        "  t.left(120)                                                                    # 왼쪽으로 120도 회전한다\n",
        "  t.forward(l)\n",
        "  t.left(120)\n",
        "  t.forward(l)\n",
        "elif s == \"원\":                                                                  # 변수가 조건을 만족한다면\n",
        "  s == turtle.textinput(\"\",\"반지름: \")\n",
        "  r = int(s)\n",
        "  t.circle(r)                                                                    # 반지름이 r인 원을 그린다\n",
        "else:                                                                            # 변수가 조건을 만족하지 못한다면\n",
        "  pass                                                                           # 넘어간다"
      ],
      "execution_count": null,
      "outputs": []
    }
  ]
}