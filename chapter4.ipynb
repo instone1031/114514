{
  "nbformat": 4,
  "nbformat_minor": 0,
  "metadata": {
    "colab": {
      "name": "chapter4.ipynb",
      "provenance": [],
      "authorship_tag": "ABX9TyOgrNYvqV3FLetYQrrmPx5U",
      "include_colab_link": true
    },
    "kernelspec": {
      "name": "python3",
      "display_name": "Python 3"
    },
    "language_info": {
      "name": "python"
    }
  },
  "cells": [
    {
      "cell_type": "markdown",
      "metadata": {
        "id": "view-in-github",
        "colab_type": "text"
      },
      "source": [
        "<a href=\"https://colab.research.google.com/github/instone1031/114514/blob/main/chapter4.ipynb\" target=\"_parent\"><img src=\"https://colab.research.google.com/assets/colab-badge.svg\" alt=\"Open In Colab\"/></a>"
      ]
    },
    {
      "cell_type": "markdown",
      "metadata": {
        "id": "9roPsixHBppE"
      },
      "source": [
        "# 연습문제"
      ]
    },
    {
      "cell_type": "markdown",
      "metadata": {
        "id": "RTnrCgKvuhds"
      },
      "source": [
        "# 1번"
      ]
    },
    {
      "cell_type": "code",
      "metadata": {
        "colab": {
          "base_uri": "https://localhost:8080/"
        },
        "id": "BmdiAQmkuTKn",
        "outputId": "fbbbed07-3143-430a-8b1a-d7b22077312c"
      },
      "source": [
        "print(\"나는\" + str(12) + \"개의 사과를 먹었다.\")                                  # 문자열과 정수형을 문자형으로 바꾼값을 출력한다"
      ],
      "execution_count": null,
      "outputs": [
        {
          "output_type": "stream",
          "name": "stdout",
          "text": [
            "나는12개의 사과를 먹었다.\n"
          ]
        }
      ]
    },
    {
      "cell_type": "markdown",
      "metadata": {
        "id": "BK9Qc6O6u6MF"
      },
      "source": [
        "# 2번"
      ]
    },
    {
      "cell_type": "code",
      "metadata": {
        "colab": {
          "base_uri": "https://localhost:8080/"
        },
        "id": "SQHU21V9u5Dl",
        "outputId": "4f62d240-c565-46ed-a59c-d74ee6f85413"
      },
      "source": [
        "print(\"apple\" + \"grape\")                                                         # 문자형 2개를 합쳐서 출력한다\n",
        "print(\"apple\" * 3)                                                               # 문자형과 정수형만큼 출력한다"
      ],
      "execution_count": null,
      "outputs": [
        {
          "output_type": "stream",
          "name": "stdout",
          "text": [
            "applegrape\n",
            "appleappleapple\n"
          ]
        }
      ]
    },
    {
      "cell_type": "markdown",
      "metadata": {
        "id": "pm1SsdfCvJG-"
      },
      "source": [
        "# 3번"
      ]
    },
    {
      "cell_type": "code",
      "metadata": {
        "colab": {
          "base_uri": "https://localhost:8080/"
        },
        "id": "E-NeH-1OvNWL",
        "outputId": "03881fdf-3692-439e-a4b5-bc6d740fdb41"
      },
      "source": [
        "str = input(\"문자열을 입력하시오: \")                                             # 문자형 변수를 입력받는다\n",
        "s = str[0:2] + str[-2:]                                                          # 처음 2글자와 마지막 2글자를 찾는다\n",
        "\n",
        "print(s)                                                                         # 최종 결과를 출력한다"
      ],
      "execution_count": null,
      "outputs": [
        {
          "output_type": "stream",
          "name": "stdout",
          "text": [
            "문자열을 입력하시오: ddddd\n",
            "dddd\n"
          ]
        }
      ]
    },
    {
      "cell_type": "markdown",
      "metadata": {
        "id": "E0IPemY7vhhj"
      },
      "source": [
        "# 4번"
      ]
    },
    {
      "cell_type": "code",
      "metadata": {
        "colab": {
          "base_uri": "https://localhost:8080/"
        },
        "id": "UXQHof6Xve0o",
        "outputId": "3de2de7a-2f64-44e0-ac3f-80b3a512fc88"
      },
      "source": [
        "s = input(\"문자열을 입력하시오: \")                                               # 문자형 변수를 입력받는다\n",
        "s += \"하는 중\"                                                                   # 변수에 문자열을 합친다\n",
        "\n",
        "print(s)                                                                         # 최종 결과를 출력한다"
      ],
      "execution_count": null,
      "outputs": [
        {
          "output_type": "stream",
          "name": "stdout",
          "text": [
            "문자열을 입력하시오: dddd\n",
            "dddd하는 중\n"
          ]
        }
      ]
    },
    {
      "cell_type": "markdown",
      "metadata": {
        "id": "3ejylLb2vtz2"
      },
      "source": [
        "# 5번"
      ]
    },
    {
      "cell_type": "code",
      "metadata": {
        "colab": {
          "base_uri": "https://localhost:8080/"
        },
        "id": "4M67E2WVvtUA",
        "outputId": "9ec89e0c-48ae-43c7-a561-8311258112c0"
      },
      "source": [
        "str = input(\"기호를 입력하시오: \")                                               # 정수형 변수를 입력받는다\n",
        "word = input(\"중간에 삽입할 문자열을 입력하시오: \")                              # 문자형 변수를 입력받는다\n",
        "s = str[:1] + word + str[1:]                                                     # 정수형 변수를 문자형으로 변환하고 word 변수와 합친다\n",
        "\n",
        "print(s)                                                                         # 최종 결과를 출력한다"
      ],
      "execution_count": 2,
      "outputs": [
        {
          "output_type": "stream",
          "name": "stdout",
          "text": [
            "기호를 입력하시오: <>\n",
            "중간에 삽입할 문자열을 입력하시오: 가나다\n",
            "<가나다>\n"
          ]
        }
      ]
    },
    {
      "cell_type": "markdown",
      "metadata": {
        "id": "UY6RcAZJwLQr"
      },
      "source": [
        "# 6번"
      ]
    },
    {
      "cell_type": "code",
      "metadata": {
        "colab": {
          "base_uri": "https://localhost:8080/"
        },
        "id": "TI13kEL1wDxp",
        "outputId": "5761111d-0a7e-48f3-91a3-eff13e91ec6d"
      },
      "source": [
        "lista = [1, 2, 3, 4]                                                             # lista를 선언한다\n",
        "sum = 0                                                                          # 처음 위치를 0으로 설정한다\n",
        "sum = lista[0] + lista[1] + lista[2] + lista[3]                                  # 각각의 위치에 있는 변수를 구해 합친다\n",
        "print(\"리스트 = \", lista)                                                        # lista에 숫자가 무엇이 있는지 출력한다\n",
        "print(\"리스트 숫자들의 합 = \", sum)                                              # lista의 숫자들을 합한 결과를 출력한다"
      ],
      "execution_count": null,
      "outputs": [
        {
          "output_type": "stream",
          "name": "stdout",
          "text": [
            "리스트 =  [1, 2, 3, 4]\n",
            "리스트 숫자들의 합 =  10\n"
          ]
        }
      ]
    },
    {
      "cell_type": "markdown",
      "metadata": {
        "id": "L4XQDPl0wm-a"
      },
      "source": [
        "# 7번"
      ]
    },
    {
      "cell_type": "code",
      "metadata": {
        "id": "HapXY5Kawl7y"
      },
      "source": [
        "import turtle                                                                    # turtle 모듈을 불러온다\n",
        "t = turtle.Turtle()                                                              # 모듈을 t로 선언한다\n",
        "t.shape(\"turtle\")                                                                # 아이콘 모양을 거북이 모양으로 변경한다\n",
        "\n",
        "lista = [  ]                                                                     # lista를 선언한다\n",
        "color = input(\"색상 #1을 입력하시오: \")                                          # 색상 변수를 입력받는다\n",
        "lista.append(color)                                                              # 첫번째 색상으로 선택되었다\n",
        "color = input(\"색상 #2을 입력하시오: \")\n",
        "lista.append(color)                                                              # 두번째 색상으로 선택되었다\n",
        "color = input(\"색상 #3을 입력하시오: \")\n",
        "lista.append(color)                                                              # 세번째 색상으로 선택되었다\n",
        "\n",
        "t.fillcolor(lista[0])                                                            # 첫번째 색으로 채울색을 바꾼다\n",
        "t.begin_fill()                                                                   # 채우기를 시작한다\n",
        "t.circle(50)                                                                     # 반지름이 50인 원을 그린다\n",
        "t.end_fill()                                                                     # 채우기를 끝낸다\n",
        "\n",
        "t.up()                                                                           # 아이콘을 올린다\n",
        "t.goto(100, 0)                                                                   # (100, 0)좌표로 이동한다\n",
        "t.down()                                                                         # 아이콘을 내린다\n",
        "t.fillcolor(lista[1])                                                            # 두번째 색으로 채울색을 바꾼다\n",
        "t.begin_fill()\n",
        "t.circle(50)\n",
        "t.end_fill()\n",
        "\n",
        "t.up()\n",
        "t.goto(200, 0)                                                                   # (200, 0)좌표로 이동한다\n",
        "t.down()\n",
        "t.fillcolor(lista[2])                                                            # 세번째 색으로 채울색을 바꾼다\n",
        "t.begin_fill()\n",
        "t.circle(50)\n",
        "t.end_fill()\n",
        "t._screen.exitonclick()                                                          # 눌러서 종료할수 있도록 설정한다"
      ],
      "execution_count": null,
      "outputs": []
    },
    {
      "cell_type": "markdown",
      "metadata": {
        "id": "6MdDAA-HyMkT"
      },
      "source": [
        "# 8번"
      ]
    },
    {
      "cell_type": "code",
      "metadata": {
        "id": "ec7yHZ1-yOxy"
      },
      "source": [
        "import turtle                                                                    # turtle 모듈을 불러온다\n",
        "t = turtle.Turtle()                                                              # 모듈을 t로 선언한다\n",
        "t.shape(\"turtle\")                                                                # 아이콘 모양을 거북이 모양으로 변경한다\n",
        "\n",
        "lista = [ ]                                                                      # lista를 선언한다\n",
        "lista.append(int(input(\"x1: \")))                                                 # 정수형 변수를 입력받아 저장한다\n",
        "lista.append(int(input(\"y1: \")))\n",
        "lista.append(int(input(\"x2: \")))\n",
        "lista.append(int(input(\"y2: \")))\n",
        "lista.append(int(input(\"x3: \")))\n",
        "lista.append(int(input(\"y3: \")))\n",
        "\n",
        "t.goto(lista[0], lista[1])                                                       # (x1, y1)좌표로 이동한다\n",
        "t.goto(lista[2], lista[3])                                                       # (x2, y2)좌표로 이동한다\n",
        "t.goto(lista[4], lista[5])                                                       # (x3, y3)좌표로 이동한다\n",
        "t._screen.exitonclick()                                                          # 눌러서 종료할수 있도록 설정한다"
      ],
      "execution_count": null,
      "outputs": []
    },
    {
      "cell_type": "markdown",
      "metadata": {
        "id": "MZ_TcSQFBxGH"
      },
      "source": [
        "# 도전문제"
      ]
    },
    {
      "cell_type": "markdown",
      "metadata": {
        "id": "AMfwZbb4Byhr"
      },
      "source": [
        "# 1번"
      ]
    },
    {
      "cell_type": "code",
      "metadata": {
        "id": "zdB3CthAG55x"
      },
      "source": [
        "import turtle                                                                    # turtle모듈을 불러온다\n",
        "t = turtle.Turtle()                                                              # 모듈을 t로 선언한다\n",
        "t.shape(\"turtle\")                                                                # 아이콘 모양을 거북이 모양으로 변경한다\n",
        "\n",
        "s = turtle.textinput(\"\",\"이름을 입력하시오: \")                                   # 문자형 변수를 입력받는다\n",
        "\n",
        "for i in range(4):                                                               # i 변수가 4번 반복된다\n",
        "  t.write(\"안녕하세요?\" + s + \"씨, 터틀 인사드립니다.\")                          # 문자열과 변수값이 합쳐져서 출련된다\n",
        "  t.left(90)                                                                     # 왼쪽으로 90도 회전한다\n",
        "  t.forward(100)                                                                 # 앞으로 100픽셀 이동한다"
      ],
      "execution_count": null,
      "outputs": []
    },
    {
      "cell_type": "markdown",
      "metadata": {
        "id": "FxSVr7amOBLb"
      },
      "source": [
        "# 2번"
      ]
    },
    {
      "cell_type": "code",
      "metadata": {
        "colab": {
          "base_uri": "https://localhost:8080/"
        },
        "id": "B3iEup0fOCcn",
        "outputId": "3631238f-bd84-4731-83e9-521e6e8c0780"
      },
      "source": [
        "print(\"안녕하세요?\")                                                             # 문자열을 출력한다\n",
        "name = input(\"이름이 어떻게 되시나요?\")                                          # name 변수를 입력받는다\n",
        "print(\"이름의 길이는 다음과 같군요:\", end = \"\")                                  # 문자형 변수값과 문자열과 출력한다\n",
        "print(len(name))                                                                 # 문자형 변수의 길이를 계산한다\n",
        "age = int(input(\"나이가 어떻게 되나요?\"))                                        # age 변수를 입력받는다\n",
        "print(\"내년이면\", int(age + 1), \"이 되시는군요.\")                                # 문자열과 정수형을 문자로 변환한 값을 출력한다\n",
        "hobby = input(\"취미가 무엇인가요?\")                                              # hobby 변수를 입력받는다\n",
        "print(\"네 저도 \"+ hobby + \" 좋아합니다.\")                                        # 변수값과 문자열을 출력한다"
      ],
      "execution_count": 8,
      "outputs": [
        {
          "output_type": "stream",
          "name": "stdout",
          "text": [
            "안녕하세요?\n",
            "이름이 어떻게 되시나요?홍길동\n",
            "이름의 길이는 다음과 같군요:3\n",
            "나이가 어떻게 되나요?20\n",
            "내년이면 21 이 되시는군요.\n",
            "취미가 무엇인가요?영화 감상\n",
            "네 저도 영화 감상좋아합니다.\n"
          ]
        }
      ]
    },
    {
      "cell_type": "markdown",
      "metadata": {
        "id": "2wLVt6thPmBE"
      },
      "source": [
        "# 3번"
      ]
    },
    {
      "cell_type": "code",
      "metadata": {
        "colab": {
          "base_uri": "https://localhost:8080/"
        },
        "id": "b4MBTFdWOSBK",
        "outputId": "ae5286c1-4a91-46b1-a9bd-5b5aae83a222"
      },
      "source": [
        "year = input(\"오늘의 연도를 입력하시오: \")                                       # year 변수를 입력받는다\n",
        "month = input(\"오늘의 월을 입력하시오: \")                                        # month 변수를 입력받는다\n",
        "date = input(\"오늘의 일을 입력하시오: \")                                         # date 변수를 입력받는다\n",
        "\n",
        "print(month+\"/\", date+\"/\", year)                                                 # 최종결과를 출력한다"
      ],
      "execution_count": 9,
      "outputs": [
        {
          "output_type": "stream",
          "name": "stdout",
          "text": [
            "오늘의 연도를 입력하시오: 2021\n",
            "오늘의 월을 입력하시오: 10\n",
            "오늘의 일을 입력하시오: 29\n",
            "10/ 29/ 2021\n"
          ]
        }
      ]
    },
    {
      "cell_type": "markdown",
      "metadata": {
        "id": "IrcyCThzRlcn"
      },
      "source": [
        "# 4번"
      ]
    },
    {
      "cell_type": "code",
      "metadata": {
        "colab": {
          "base_uri": "https://localhost:8080/"
        },
        "id": "laOhDlV7PnGr",
        "outputId": "c6c2edfb-f78d-4b85-a1a4-912a1946b743"
      },
      "source": [
        "import time                                                                      # time 모듈을 불러온다\n",
        "\n",
        "now = time.time()                                                                # 모듈을 now로 선언한다\n",
        "thisYear = int(1970 + now//(365*24*3600))                                        # 지금 연도를 계산한다\n",
        "\n",
        "print(\"올해는 \",thisYear,\"입니다.\")                                              # 문자열과 변수값을 출력한다\n",
        "age = int(input(\"몇 살이신지요?\"))                                               # age 변수를 입력받는다\n",
        "print(\"2050년에는 \",(age+2050-thisYear),\"살 이시군요.\")                          # 최종결과를 출력한다"
      ],
      "execution_count": 11,
      "outputs": [
        {
          "output_type": "stream",
          "name": "stdout",
          "text": [
            "올해는  2021 입니다.\n",
            "몇 살이신지요?20\n",
            "2050년에는  49 살 이시군요.\n"
          ]
        }
      ]
    },
    {
      "cell_type": "code",
      "metadata": {
        "id": "cTscA6dXSArg"
      },
      "source": [
        ""
      ],
      "execution_count": null,
      "outputs": []
    }
  ]
}