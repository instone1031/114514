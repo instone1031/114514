{
  "nbformat": 4,
  "nbformat_minor": 0,
  "metadata": {
    "colab": {
      "name": "chapter 8&9.ipynb",
      "provenance": [],
      "authorship_tag": "ABX9TyM9Wge6oB1uMmmkrGvB4L7r",
      "include_colab_link": true
    },
    "kernelspec": {
      "name": "python3",
      "display_name": "Python 3"
    },
    "language_info": {
      "name": "python"
    }
  },
  "cells": [
    {
      "cell_type": "markdown",
      "metadata": {
        "id": "view-in-github",
        "colab_type": "text"
      },
      "source": [
        "<a href=\"https://colab.research.google.com/github/instone1031/114514/blob/main/chapter_8%269.ipynb\" target=\"_parent\"><img src=\"https://colab.research.google.com/assets/colab-badge.svg\" alt=\"Open In Colab\"/></a>"
      ]
    },
    {
      "cell_type": "markdown",
      "source": [
        "# 도전문제"
      ],
      "metadata": {
        "id": "mgx9zWnDATWX"
      }
    },
    {
      "cell_type": "markdown",
      "source": [
        "# 1번"
      ],
      "metadata": {
        "id": "F63XVK9VAV4n"
      }
    },
    {
      "cell_type": "code",
      "execution_count": null,
      "metadata": {
        "id": "MvB7jXV8AHeR"
      },
      "outputs": [],
      "source": [
        "# 모듈\n",
        "import turtle\n",
        "import random\n",
        "screen = turtle.Screen()\n",
        "image1 =\"D:/rabbit.gif\"\n",
        "image2 =\"D:/turtle.gif\"\n",
        "image3 =\"D:/turtle2.gif\" \n",
        "screen.addshape(image1)\n",
        "screen.addshape(image2)\n",
        "screen.addshape(image3)\n",
        "\n",
        "# 거북이 아이콘\n",
        "t1 = turtle.Turtle()\n",
        "t1.pensize(5)\n",
        "t2 = turtle.Turtle()\n",
        "t2.pensize(5)\n",
        "t3 = turtle.Turtle()\n",
        "t3.pensize(5)\n",
        "t1.pendown()\n",
        "t2.speed(1)\n",
        "t3.speed(1)\n",
        "\n",
        "# 행동\n",
        "for i in range(100):\n",
        " d1 = random.randint(1, 60)\n",
        " t1.forward(d1)\n",
        " d2 = random.randint(1, 60)\n",
        " t2.forward(d2)\n",
        " d3 = random.randint(1, 60)\n",
        " t3.forward(d3)"
      ]
    },
    {
      "cell_type": "markdown",
      "source": [
        "# 2번"
      ],
      "metadata": {
        "id": "M7A9QIroAwlZ"
      }
    },
    {
      "cell_type": "code",
      "source": [
        "import random                                                                    # random 모듈을 불러온다\n",
        "question = [\"56 / 8\", \"8 * 9\", \"50 - 25\", \"1 + 6\", \"81 / 9\",\n",
        " \"22 + 10\", \"8 / 4\", \"9 * 7\", \"17 - 4\", \"3 + 5\"]                                 # 리스트 생성\n",
        "dailyQuestion = random.choice(question)                                          # 문제 만들기\n",
        "print(\"#########################\")\n",
        "print(\"# 오늘의 산수 문제 #\")                                                    # 문자열 출력\n",
        "print(\"#########################\")\n",
        "print(\"\")\n",
        "print(dailyQuestion)                                                             # 변수 출력"
      ],
      "metadata": {
        "id": "i_SgnfcNAxkv"
      },
      "execution_count": null,
      "outputs": []
    },
    {
      "cell_type": "markdown",
      "source": [
        "# 3번"
      ],
      "metadata": {
        "id": "XDYdHedlBHca"
      }
    },
    {
      "cell_type": "code",
      "source": [
        "items = {\"커피음료\": 7, \"펜\": 3, \"종이컵\": 2, \"우유\": 1, \"콜라\": 4, \"책\": 5}     # 리스트 생성\n",
        "\n",
        "while True:                                                                      # 무한루프\n",
        " print(\"\")\n",
        " print(\"# 재고 목록 #\")\n",
        " for key in sorted(items.keys()):\n",
        " print(key, items[key])\n",
        " print(\"\\n********************\")\n",
        " print(\"0. 종료\")\n",
        " print(\"1. 재고 추가\")                                                           # 문자열 출력\n",
        " print(\"2. 재고 삭제\")\n",
        " print(\"********************\\n\") \n",
        " a = int(input(\"무엇을 하시겠습니까?: \"))                                        # a 변수 입력\n",
        " \n",
        " if a == 1:                                                                      # a가 1과 동일\n",
        " item = input(\"물건의 이름을 입력하시오: \") \n",
        " num = input(\"몇개를 추가하시겠습니까? :\")\n",
        " items[item] = int(items[item]) + int(num)                                       # 변수값과 리스트로 수식 생성\n",
        " elif a == 2:                                                                    # a가 2와 동일\n",
        " item = input(\"물건의 이름을 입력하시오: \")\n",
        " num = input(\"몇개를 삭제하시겠습니까? :\")\n",
        " items[item] = int(items[item]) - int(num)\n",
        " \n",
        " else:                                                                           # 조건 만족하지 못함\n",
        " break                                                                           # 무한루프 종료"
      ],
      "metadata": {
        "id": "CwvWB_wWBIg1"
      },
      "execution_count": null,
      "outputs": []
    },
    {
      "cell_type": "markdown",
      "source": [
        "# 4번"
      ],
      "metadata": {
        "id": "gYn0xJHSBpQo"
      }
    },
    {
      "cell_type": "code",
      "source": [
        "english_dict = dict()                                                            # english_dict 변수 생성\n",
        "english_dict['하나'] = 'one'\n",
        "english_dict['둘'] = 'two'                                                       # 리스트 추가\n",
        "english_dict['셋'] = 'three'\n",
        "word = input(\"단어를 입력하시오: \")                                              # word 변수 입력\n",
        "print (english_dict[word])                                                       # 변수값 리스트 출력"
      ],
      "metadata": {
        "id": "vx93gShABqhM"
      },
      "execution_count": null,
      "outputs": []
    },
    {
      "cell_type": "markdown",
      "source": [
        "# 5번"
      ],
      "metadata": {
        "id": "HPVrmOXmB7Nh"
      }
    },
    {
      "cell_type": "code",
      "source": [
        "# 모듈\n",
        "import smtplib\n",
        "from email.mime.text import MIMEText\n",
        "\n",
        "# 주고받는 대상\n",
        "me = 'abc@server.kr'\n",
        "you = ['def1@server.com','def2@server.com','def3@server.com']\n",
        "contents = '12월 20일에 동창회가 있으니 참석해주시기 바랍니다.'\n",
        "\n",
        "# 메시지를 주고받는 기능\n",
        "msg = MIMEText(contents, _charset='euc-kr')\n",
        "msg['Subject'] = '동창회 모임' msg['From'] = me\n",
        "msg['To'] = you\n",
        "\n",
        "# 메세지를 주고받을때 필요한 정보\n",
        "server = smtplib.SMTP('smtp.gmail.com', 587)\n",
        "server.ehlo()\n",
        "server.starttls()\n",
        "server.ehlo()\n",
        "server.login(\"자신의 아이디\", \"패스워드\")\n",
        "\n",
        "# 반복문\n",
        "for i in range(len(you)):\n",
        " server.sendmail(me, you[i], msg.as_string())\n",
        "server.quit()"
      ],
      "metadata": {
        "id": "uPJsz1cRB8Cw"
      },
      "execution_count": null,
      "outputs": []
    }
  ]
}